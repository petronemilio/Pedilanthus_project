{
 "cells": [
  {
   "cell_type": "markdown",
   "metadata": {},
   "source": [
    "En este notebook se hace una aproximación de los sistemas Lindenmayer para modelar la diferenciación de las células iniciales cambiales fusiformes.\n",
    "Antes de comenzar es importante introducir nociones báscias acerca de los sistemas Lindemayer así como las condiciones para simular el proceso de desarrollo cambial.\n",
    "Definir un sistema que crezca en una sola dirección para simular una célula cambial que da origen a una célula inicial fusiforme y a otra cambial."
   ]
  },
  {
   "cell_type": "code",
   "execution_count": 1,
   "metadata": {},
   "outputs": [],
   "source": [
    "import random\n",
    "import matplotlib.pyplot as plt\n",
    "import numpy as np\n",
    "import turtle"
   ]
  },
  {
   "cell_type": "code",
   "execution_count": 2,
   "metadata": {},
   "outputs": [],
   "source": [
    "def applyRules(lhch):\n",
    "    \"\"\"Apply stochastic rules using random distribution\n",
    "    for values between 0 and 2 to apply rul1 or rule2 or\n",
    "    rule3 \"\"\"\n",
    "    rhstr = \"\"\n",
    "    s = np.random.randint(0,3,1)\n",
    "    if lhch == 'A' and s == 0:\n",
    "        rhstr = 'AF'   # Rule 1\n",
    "    elif lhch == 'A' and s == 1:\n",
    "        rhstr = 'AV' #Rule 2\n",
    "    elif lhch == 'A' and s == 2:\n",
    "        rhstr = 'AP'\n",
    "    elif lhch == 'A':\n",
    "        rhstr = 'B'  # Rule 2\n",
    "    else:\n",
    "        rhstr = lhch    # no rules apply so keep the character\n",
    "\n",
    "    return rhstr"
   ]
  },
  {
   "cell_type": "code",
   "execution_count": 3,
   "metadata": {},
   "outputs": [],
   "source": [
    "def processString(oldStr):\n",
    "    newstr = \"\"\n",
    "    for ch in oldStr:\n",
    "        newstr = newstr + applyRules(ch)\n",
    "    return newstr"
   ]
  },
  {
   "cell_type": "code",
   "execution_count": 4,
   "metadata": {},
   "outputs": [],
   "source": [
    "def createLSystem(numIters,axiom):\n",
    "    startString = axiom\n",
    "    endString = \"\"\n",
    "    for i in range(numIters):\n",
    "        endString = processString(startString)\n",
    "        startString = endString\n",
    "    return endString"
   ]
  },
  {
   "cell_type": "code",
   "execution_count": 5,
   "metadata": {},
   "outputs": [],
   "source": [
    "lengths_array = np.random.randint(10,150,100)\n",
    "random_files = []\n",
    "for i in lengths_array:\n",
    "    random_files.append(createLSystem(i,'A'))"
   ]
  },
  {
   "cell_type": "code",
   "execution_count": 6,
   "metadata": {},
   "outputs": [
    {
     "data": {
      "text/plain": [
       "['APFPVFVFPFPFPPVFPPFPVFPFFVPVFFFFFVPVPFVPVPFFVVVVFVVPFFFPFVVPFPFVPPVVFPPFVFVFPFPPVPFFPFFPPPPVVVVPPPVVFFPVPVPFPFPFV',\n",
       " 'APFPFPPVPPVVVFVFFPFVFFPPFVFFPPVVPFVFFVFVVPVFVVPVFVPPPPVPPVVVVVPFFVFVPPFFVPFFVFVFPPPPVFFFFFVFPFVFFPVPFPVVVFVFPVVPFFPFPVVFFVFFFPFPPVFFPFFPPVFFVPFVVFPFFV',\n",
       " 'AFFFPVPVVVPFPPPVPFVVPVVPVPVPPVVPVFFVFVVFPVPVVPPP',\n",
       " 'APPFVVPPVFFVPP',\n",
       " 'APPFFPFPPFPPFPFFVVFVVVVPPPPVPVVVPPPFVPPPVVVPFFVPVFPVVPVFPVPVFFPFVFPVPVPVFVPPPPVFPPPVPVVFPFPPVPFVPPPPFPVPVPPPFPVPPPVFFVFVVVFPPFPFVFFVFPFPPFPPVV',\n",
       " 'AFFPPVPFVVVVVVFVFPVPFP',\n",
       " 'AFVPPPVPFFFVVVP',\n",
       " 'AFVPFVVVPVPPFFPPVFFFVPFFPPVVPFVPPPPVFVVPVPVFPFPPVVFVPVPVPVVPFFVFV',\n",
       " 'AVFPPPVPFPPVVFPFVPPFFFVPPFVPFPFPVVVPFFPVVPVFVFFVVFVVVFPPFFPFPPVVPPPVVPPFFFPFFPPVVPFFPVPFPFV',\n",
       " 'AFPFPVPFVFVVVVVPVPPVVVFPVVVPFFVFVVFVVPFFFPFPVFVPPVVPVPPPFFF',\n",
       " 'AVPVFFFFPFPPVFVPVPVPVVVVPFPVVPPPVVFPVFFFPVVFVPFFFFFPPVVVPVVFVFVVFVPVFFFVPFPVVVVVPVPVVPFFVPFPPVFFFPPPVVPPPFPFP',\n",
       " 'AVFPFPPFFFPFPPVFFVFVPPFFPVFPFFPPPVPFVVVPVFVVVFVPVFFFFPPFFFPVF',\n",
       " 'APFFVVFFPVFFFVPPFFVVVFPPVPFFFPVFVFVPVPVPFPPFVFVVVFVPPPFVPPVFFVPPFPVFFFFF',\n",
       " 'APFVFVPFPVVFFVVFPFVFPPPPVPPPFFVVPPPPFFFFPFVVPPFVVPVVVFFFFFVPVVVFVFVFVVVFFVPFPFPVPFPFVVFPFPFVVVFFFVFFPFPVFFVFFFFF',\n",
       " 'AVFVVPVFFPVP',\n",
       " 'AFVVPVPPPFPFFPVVVPPFPPPPVPPFPVPFFPVVVVVVFPVVFFVFVVVVPFVPFVFFFVVVFVFFFFPVFFPVVFPFPVPFPVPVFVFPPFFVFPVFVVVVFVFPFVPVFPVPFFPPVF',\n",
       " 'APFVVVFPVFPPFPPPPPFFPFVPP',\n",
       " 'AVFPPPPFFPVPFPFVPPPPFVVVFPVVVVPVFVFVVPPFP',\n",
       " 'AFFFPPPPVPFFFVFFVFVPVFPFFFPFVPPFVFFFFFFFPVPPPFFVVFPFFVVPVFFVVFPPPVPV',\n",
       " 'AFPVPVFPFFVVFFPVPVFPFVVPVVPVPVV',\n",
       " 'AVPVFVFFFFVPVPPFVVVPVVFVPPPFPPPPVPVVVVVPFFFFPPFPPVVFPFVFPVVPFFFVVVFVFPPFPFPFPFFPPPPVPVPPVPFPPFFFFPFPFVFPFFPFPVFFVPFVPFVFVVVPFPVPPPVFPPFPFVVPPPVPPV',\n",
       " 'AVPVVPFFVVFVFVPVPVVFFFFFPFPVPPVFVVVFVVVVFFVPVVF',\n",
       " 'AFVFPFFFFVVVVFPFVFFPVPFFPFFPFPFFPFFPPVFFFPVFPVPFVFVPVF',\n",
       " 'AFPVFVFVVFFPVVFVPVPPPPPVVFVFPPPVPPPVVPV',\n",
       " 'AFFPPVFPFPPVFFVP',\n",
       " 'AFVVVVFVVVVFVFVPFFVVFFPVVVFVPPFFVPFFFPFFVPFPPPFFPPVFPVVVVVVFVVFVVVVVPVVFPFFVVPVVVPVFPPFFPFFVFPPFPVPFFPVVVPFPP',\n",
       " 'AFPVFFVVVFFPPFVFPPFVPPVVVPPPFPPPFFVFVPVPVFFVFVVVFFPFVVPVFPPVPVFFFFPFFPPVPPVVFVVFFFFFVVFVFPPPVPVVPFPPFFFVFPPPFPVPVVPPFVVPPFPPFVPFFVPPPVFVFFVPV',\n",
       " 'AVPVVVPVVVPFFPFFPVPFVFFVFVFPVVVVPVVPPVVFVPPPPFFPVVVFFPVVFVVFPPFPPFFFFFVVPVVPVPFVVVPFPFFFPPPFVVPPVVFPPVVFFVFPPPV',\n",
       " 'AVFPPFPFPVPVVVPPPPVFVPFFVVV',\n",
       " 'AVPFFFFVPFVFVVVVPVPPFVFPVFPFPFVFPFFVPVVFVPPPPPFFPVPFPPVVPPVFFVFVFVVFVVPFFFVVFFVPFVVPPVFPFPPVPPPP',\n",
       " 'APFPPVVVPPFVVFPFVFPVVPPFFFPFFPPFVPVPFFFVPFVFFVVVPVFVPPPVFFFFPFPVFFFVFPVFFPPVVFPFFVVFPPPPFFPVVVFPFPPVPPPVVFVPVPPFPFVFVVVVPFFPVVVVPFVVFVFVFVFFVPFFPVFFP',\n",
       " 'AVVVVVVFPPPFFFPPVFFVPPFVPPVVPFFFPFPVVVPFFPPVFPVPVPPFPFVPPFFVPPFPPFFFFPVPPVVFPP',\n",
       " 'AVVVVPFPPVVVFPFFFPVVFFVFPPPFPVFPFVFVFFFFFVFFPVFPVPPVVVPFVVVVPVFPFVPPFFVPVVFFPPVFFPVPVFVPFV',\n",
       " 'AFFFFFPFVFPVPVPPPVPPFVPVVFPPVVVFFPFVVPPPFPFVVPPVPFFFPFVVVFVVFPFPVVFVPFVVFVPFPVFFFPVPPPVFPFVFFFPVVFFPVPPPFPVPFFPFFPFFV',\n",
       " 'AFPPFFPFPVVPPVFPVPFVFVPVFVVPPFVPFFVPPFPPFFF',\n",
       " 'APFFFPVPFVVFPPFVPVPVPFVFFPVPFPFPPFPVFFVFFPVFFVVFPPVFPVVVFPVFPVFFPPFFVVPVFVFVVVFVPPFPPPVVFPPVFFPVPFPVVPVPVVPPVVPPPPPPVPFPVPPFFVVFVVPPVPFPFV',\n",
       " 'AVVPFPFVPPPPFFPVFP',\n",
       " 'APPVVVFVVFPVPVPVVVFVFVPVFFFVVFPVVPPVPFPPVFPVFPVPVPPPPVVPPFFFPFVPFVVFFVFFPFPPFFFFFVVVFVVVFPPFPFPPVFVFFFFFPVVFVVFFFFPVPFVPPV',\n",
       " 'APPFPPVVVFVPFVFVVVPPFFFVVPPFVPVVVFFPVFFVPVVVVVFVFPFPPVFVVVFVVVF',\n",
       " 'AFFFVPFFVVPVPPPFVVPFPFPFFPPPFFFFVFVVPFFVFVVFFVFFPFPFFFVFPVVFVPPVFVFVFFFVFVP',\n",
       " 'AFVFFPPFFVFPFVPFFPPVVVVVFVPVVPFFFVPFFVPPVF',\n",
       " 'APVVVPFPVPFFPVPVFFVFPFPVVPVPVFFPVVVVVVPVVVFFFPFFVFPFVVPFPFPPVPVVVVVFFPVVPVPPPFVVFFPPPFPVPVVFFVVPVVVFVPVFFFPVVVVVPPFPPVFFVVPVFFFFPFFFFVPFVPPVPVVFVFFFV',\n",
       " 'AVPVVPPVVVPPVVPFPFVPPFFFVPVVFPPFVVPFPFVVVFVVPFVFFVPFPVVFPPPFPPPFPFPFPFPPPPVPPPPVPPPPFPVVFFVFPVVFVPPVFVFPFFVVFVVFVFPVVPP',\n",
       " 'AFPVFPVFFVVPVPPPVFVPVPVPVPVFVVVPPVFPPFFFFVPFPVFFFFPVVFPFVFPFFPPVPFFF',\n",
       " 'AFVFVPFVPVPVVVVPPPPFFVPPVPFVPFFVVPVPVFVFVFFPFFFVPFFPVFFFPPFVFVVFFFFFVFF',\n",
       " 'APVFVVVVVPVPVVVFFFPVFPVVPFFVFPFFPFPFVFPPPFPVVFPPPPFVVPPPFPPPVPVFVVPFFVPFPVFPPVVPVVVVFVFPPPPPVFPVFFPPFFVPFFFVPFVVFP',\n",
       " 'AVPFPVFFFPFPFVPFVFPFVPPPVFVVFVFPPVPPPVFFFFFVVFFVVFPFVPVFVPPVPVFVV',\n",
       " 'APFPVPPVPFFVVVPVVPVPVVPPVFFPVPFVPFVVPFFFVPFPPFVPFVFFPV',\n",
       " 'AFFVPVFVPVVPPVVVVVPPFFVFF',\n",
       " 'APVVPFVVFPVVVPVVFVPFPPVVVPFPPVFVPVPVPFFVVFFVPFVVVF',\n",
       " 'AVPVPVPVVVVPVFPPFFFPVFFFVFPPVVPFFPVPVVVVVPVPPFPVPVP',\n",
       " 'APVVPPVFVVFVFPFFFVVFPPPPVVFFFPVPFFVFFFFFVFPVPFVFFVVFVPFFFVVVFVPVPPPFPFVPPPFPFPPFVVVVPPFFFVFFVVFVFPPFPV',\n",
       " 'AVFVVFPPPVFPVFFVPFPVVFFVFFVPVPPFVFFPVVFFPFVPFFPPPPPPPVVPVFPVPPPPVVVPVFPPPVPFPF',\n",
       " 'AVFPVVVVPFFVVVVPPVVVPFPPPFPVVFPVFVPFFVFVPFVFVPFP',\n",
       " 'APFFPVPVVPPFVFFFVVFFPFPPFPVPPPPVFFPPPFFFPVVPPPVPPFVFPPVPVPVPFVVFFPPVVFFFVFP',\n",
       " 'AFVPPPVFPFPFVVPFFVVVPFFPVFVFVPFPP',\n",
       " 'APVFFPPPVVVFPVPVPPPVPVPVFVVVPFVVFFVVPVVVVVVPFVVPPVVPPFFFFPFPPVFFFPPFVVFPVPVFFFPVPF',\n",
       " 'APPVVVVFVFFFPPFPVVFVFFVVVVFFFPPPFPVFFPF',\n",
       " 'AFVVVVPPVFVVFVPVPVPPFF',\n",
       " 'AVVFPPPFPPFVVFPFPFFPVFVVFVVFVPPFPVVPPFFPFVFFFFVVVVFFFPVPPPVVPFVPPPVPFFVVFFPVFPFPPPVFPFVFPFPFVVPFPFVFVVPVPVFPFVFFPFFPFVVVVPFPPPVVFVPFPFPFVPFPVVPPFVV',\n",
       " 'AFFVVVFVFVPPFPFPFFPVFPPVPVVFPFPFVVVPFVPPVVVFVPVPVPFFPFPVPFFPVVPVFPFPFFVPVFPPFPPFFVVFFFPVPVVFVFPFFFPPVFVFPVPVVPPVPPVPVPFFPPFFPFFPVPPFPPVPVFVVPVFPPFPVFP',\n",
       " 'APFFFFVPVVPFFVPFVV',\n",
       " 'AFFFPFFFPVVVVPVFFVVPPPPVPPVVPPPPPPFFFFFPFPVFPVPVPVPFPFVVVPFFPFFFPVFPFVFFFPFFF',\n",
       " 'AFFPPFVFVFPFFFPFPVVPPPFVVPVFFPVPFPPPFFPVVVPPFVFPPFVVFPVPFVPPPFFPPFPVVFVVVPPPFFVFVPVFFFVVFPFFVVVVFPVFFPVPFVVVVFVFFVPVVVVPPP',\n",
       " 'APFFPVPPPVFPPPPPVVFVPFFFVVFFFPFVVVPFVPPFVFPFFVPVVFVFPPVFVPPVFPPPPVPVVVFPVFPPVPFPPFPFFFFV',\n",
       " 'APVVFVVFVPFFVFPVPPVFVVPPPFPVPVVPVVVPPPFPPFPFVVFVFFFFVPPFVPFPVFVFPPPFVFVVVVVPFFVVFPPFVFFVPPPPVFVFPPFFVFPFFPPVFPPVVPFFPPFPVFVVFVVFVPFVPPVP',\n",
       " 'AFPPFVVFPPFVVPFPFFPPPPFPPVVPVFPPVPFPVFPPFPFVPVVPPVPFVPVVFPVFVFPVVFPVFFFVFPFVPVVFPFVFVPPPFPVFFPFFFPFFPVPFFVVV',\n",
       " 'AFPFPVFFPPVVFFFPFFPPVVPVPPVPVFPPFFPPVVPPPFVVVPFFVPPPFVPVFVFFVVPVPPFPPFVPVVFPVFPVVPVFFVVVFFFFFFVPVVPVPPFVVPPFP',\n",
       " 'AVPFFPPPFPPVPPVPFFPPVPFPVVVVVFFPPFPPVFVFFVFPPPVFPPPFPPVVPVFFPVPFFFPVFFVVVVVPFPPVVVFVFVPP',\n",
       " 'AVFPFFVFPFPVVVFVPFFVPFPPVFFFFPPFVPFFVVPFFFPPFFVFFFVVFVVPVPVPFVFPVVVPVFPPFPVFVFVPVPFFFFFFFPFFFFVFFVFVPFFPPVVPPFVFVPFFVPPPFPPPFPVVPFV',\n",
       " 'AFVPVVVFPVFFPFVVVVFVVFPFFFPVVPFVVFPPFVFFFPVFFVPFVVFFPFFVPFFFPFPFVVPVFVPPFPPVVPVVFFF',\n",
       " 'AVVVVFFFFPVPVFFFVVVFVFFPFPVVPVPFFFFVPVPPPVVFVFFPVFFFPFVVPVVVVFVFVFPFFVPFFPFPFPFVVPFPFPFFFVVF',\n",
       " 'AVVFPFVFVVPFVVFFPFFFVVFFPPPFFVFVFPVPVPPPVPVVPPFFPFFFFPVVVFPPPPPVVFVVFPVVFPVVVPP',\n",
       " 'AVVPFPFPVPPPFPVFFFFFVPPPFPFPVFFVFVFVP',\n",
       " 'AFFPPPPVPFPFFVVFVPPVFVVPFPFPPPVPPVVPFP',\n",
       " 'APVVPPFVVPPPVVPFPFVFVPPFVFVVVFFFVVVFVPVFVVPVFFFPFFPVVPFVPVFPPPVPFVPFVVFVPFFFFFFPVFFPVFFVVPFPVVVVPPFPPVFPFPPFPVVPVVPPFVVVPVVFVFVVFPVPPPVVPP',\n",
       " 'AFPFPPFVFVPVPFFVPPPFPPPFVPPVVVVVVFVFFPPFPFFVPVPFFPVVVPVPFVPVPVPVFVPPVFVPFVPPFFFVVVVVPVFVFVPVVFPVFPPFFVFVVVPVFVVVVPVPPFPVFFPFF',\n",
       " 'AVVVPFFVVFF',\n",
       " 'AVFVFVFFFVPPFPPVPVPVVPFPPFFFPVFPVVPFVPFPVVVPPFFFFVPPVFFVVFPFVPP',\n",
       " 'APFFVVPVPPPVVPPPFPPPPFFPFFFPPPFFVFVPVVVFPFFFVPFVFVFFFPPVVVFVVVVVPVFPFPVVFFFFFVFVVVVPFFFFFFFVPPFFPP',\n",
       " 'AVPVVVPVFFVPPFVPPPFPPFFPVFFFFVFFVPPPVVVVFPPFFPVPPVVPVPVPVFFPVPFVFFFPVVFVPFPPPPVPVPVVFVFPFV',\n",
       " 'APFFFVFVPFVVFVFVFVVVPPFPFFPFVPPFFVPFFPFPVFVVVFFVPPVVFVPPVPPVVPPVVFPFFPVVVPVVFFPVVVVVPPPPPPFPPFPPVVFFVVFFPVFPFVFPFPFPVPVFFP',\n",
       " 'APPPVFPFVFPFPPVPVPPVVVVFFVPFFPFVPPFVVVVVPVFFPPFFVVVPPPV',\n",
       " 'AFPFFFFVFFVVFFFVPPVFVFVVPFFFVPVFFVVFFVVPFVVFVVFVPVPPFPPPVPFVPFVFVFVFVPVVPPPVFVPFVFFPVVFPPFPVVPVFVVFVFPFPPFFFVPVFFFPFPFVVFFPFFPPFFPFPVVFPPPPFFVFFFF',\n",
       " 'APFFPVPPFFFVVPPFPVPPPFPPFVFPFVVFPVFFPFPFP',\n",
       " 'AFVVVPVFFPFPVVFVFPVFVPPFFPPPFPFVFPPPVVPPPVFVFPVPVFFPPFVPVVPVFVFVFVPVFVVFPPVPPPFFFVVVVFFFP',\n",
       " 'AVPVVPFFPPFFVVPFVFPPPVVPPPFVVFVFPFVFPVPVFVVFFVPFPPVPVFVFVFFVFVFVVFVVP',\n",
       " 'APVVPVPVFVFPVPPVVVFPFVFFFVFFPPVPPF',\n",
       " 'APFPFFFVFFFVVVVVVPFVFVFPPVFFPVFVFVPPFFVPPVFPPVFFVVVVVFPFFVFPPPPFFFFVFPFPFV',\n",
       " 'AVFVPFFFPVVPVFPFFFVVFFVVFPVVPPPPFPPPPFVFVPVPPVPFPVFPFFFVPPFFPVPF',\n",
       " 'APPPVPVPVPPFVPFFFVFFFFFVVVVFVPFVFFPFVFFVVVVVPVVPFFFPVFPFPVPPFPFFFFFFPFVPVVVFVFFFFFFFPFPFPVVVVPFVFPVVVPVVVVPPPPVVFPVPPFFFFVVPFFVFFVPVVVPFP',\n",
       " 'AVVPPFFVFPVPFPVFVPVFPPFPVVFPPPVPFPPFVFPVPFFFFVFPFPVPPFVVPPPPVVPFFFFVPFFFVFFPFFF',\n",
       " 'AVPVPVFVFVFVVFFVPVFFVPVVFFPFFVFVVFPVFFVFVVPPPPPVPPPFVFFFVPFFPVPFPVFP',\n",
       " 'AVPFFVPPVPPFVFVFVFPPPVVFVFVVPFVFFPPVPFPPPFFVPVVVPVVVFPVFVPFVFPFPVFVPVVFPFP',\n",
       " 'AVFVFVVVVVFVFPVPPVPPVVFPVFVFPVPVPVVFPVFFPPVVPFVFPFPPPPVFPPPVPFPVPFVPVFVFPFFFVPPPFVVPPVFPVPFFFVVPVFPFVFPVFPVFVPPPFVFFVPFPVVFP',\n",
       " 'AVFVFVPVFFVVPFPVFPPVFPVVVFPFFPVVVFPFPFVVPVPVPVFPPFPVFVVPPVVPVPVPPPVVFPPFFVVVVPVFFFFFPVVVPPVPPFPFFVPVVPVVPPVPPFPVFPFVFPFVFVPPVPFPFVFVPPP',\n",
       " 'AFFVVPFVPPFVVFPFPPVPFFFVFPFPVVVPPVFFVPFPPFFFFPFPPVFPFFPFFFFPPP',\n",
       " 'AVFVVFPFFFPFVFVPVVPPPFVVPVVPVVVPFPVFVFFPFPPVFFPFVPVVPFFPVPPVFVPPFPPPVVFVFPVVFPVVVVVFPFFPVFVVFVVVFPPPPVV',\n",
       " 'AFPFPFFVFVVVFPVFVVFFVFFFVPPVFFVVPFVFFVVFVVFFFFFFFPVVFPVFVVVFVFPPPPVVFVPFVVPVVFFFFVFFVVFVVPPFPPVVPFVVPPFFFPPVPPPVVPVFFFFPPPPPVVFFVFVVVFPVVVPFFFFVFV',\n",
       " 'APFFVFVFVVFFFFVVFFVP']"
      ]
     },
     "execution_count": 6,
     "metadata": {},
     "output_type": "execute_result"
    }
   ],
   "source": [
    "random_files"
   ]
  },
  {
   "cell_type": "code",
   "execution_count": 7,
   "metadata": {},
   "outputs": [
    {
     "name": "stdout",
     "output_type": "stream",
     "text": [
      "['A' 'B' 'V' 'V' 'F' 'V' 'F']\n"
     ]
    }
   ],
   "source": [
    "#np.random.randint(10,150,100)\n",
    "a = 'ABVVFVF'\n",
    "#print(np.array([list(a) for word in a ]))\n",
    "print(np.array(list(a)))\n"
   ]
  },
  {
   "cell_type": "code",
   "execution_count": 8,
   "metadata": {},
   "outputs": [
    {
     "ename": "NameError",
     "evalue": "name 'cv' is not defined",
     "output_type": "error",
     "traceback": [
      "\u001b[0;31m---------------------------------------------------------------------------\u001b[0m",
      "\u001b[0;31mNameError\u001b[0m                                 Traceback (most recent call last)",
      "\u001b[0;32m<ipython-input-8-cd7be3cba989>\u001b[0m in \u001b[0;36m<module>\u001b[0;34m\u001b[0m\n\u001b[1;32m      1\u001b[0m \u001b[0;31m#try new L-system with another approach\u001b[0m\u001b[0;34m\u001b[0m\u001b[0;34m\u001b[0m\u001b[0;34m\u001b[0m\u001b[0m\n\u001b[0;32m----> 2\u001b[0;31m \u001b[0mcv\u001b[0m\u001b[0;34m.\u001b[0m\u001b[0mdividing\u001b[0m \u001b[0;34m=\u001b[0m \u001b[0mnp\u001b[0m\u001b[0;34m.\u001b[0m\u001b[0marray\u001b[0m\u001b[0;34m(\u001b[0m\u001b[0;34m[\u001b[0m\u001b[0;34m'A'\u001b[0m\u001b[0;34m]\u001b[0m\u001b[0;34m)\u001b[0m\u001b[0;34m\u001b[0m\u001b[0;34m\u001b[0m\u001b[0m\n\u001b[0m\u001b[1;32m      3\u001b[0m \u001b[0;34m\u001b[0m\u001b[0m\n\u001b[1;32m      4\u001b[0m \u001b[0;32mdef\u001b[0m \u001b[0mcreateLSystem\u001b[0m\u001b[0;34m(\u001b[0m\u001b[0mnumIters\u001b[0m\u001b[0;34m,\u001b[0m\u001b[0maxiom\u001b[0m\u001b[0;34m)\u001b[0m\u001b[0;34m:\u001b[0m\u001b[0;34m\u001b[0m\u001b[0;34m\u001b[0m\u001b[0m\n\u001b[1;32m      5\u001b[0m     \u001b[0;32mif\u001b[0m \u001b[0maxiom\u001b[0m \u001b[0;34m==\u001b[0m \u001b[0;34m'A'\u001b[0m\u001b[0;34m:\u001b[0m\u001b[0;34m\u001b[0m\u001b[0;34m\u001b[0m\u001b[0m\n",
      "\u001b[0;31mNameError\u001b[0m: name 'cv' is not defined"
     ]
    }
   ],
   "source": [
    "#try new L-system with another approach\n",
    "cv.dividing = np.array(['A'])\n",
    "\n",
    "def createLSystem(numIters,axiom):\n",
    "    if axiom == 'A':\n",
    "        startString = np.array([0])\n",
    "        endString = np.array([], 'int')\n",
    "    for i in range(numIters):\n",
    "        endString = processString(startString)\n",
    "        startString = endString\n",
    "    return endString\n",
    "\n",
    "def processString(oldStr):\n",
    "    newstr = np.array([], 'int')\n",
    "    for ch in oldStr:\n",
    "        newstr = newstr + applyRules(ch)\n",
    "    return newstr\n",
    "\n",
    "def applyRules(lhch):\n",
    "    \"\"\"Apply stochastic rules using random distribution\n",
    "    for values between 0 and 2 to apply rul1 or rule2 or\n",
    "    rule3 \"\"\"\n",
    "    rhstr = \"\"\n",
    "    s = np.random.randint(0,3,1)\n",
    "    if lhch == 'A' and s == 0:\n",
    "        rhstr = 'AF'   # Rule 1\n",
    "    elif lhch == 'A' and s == 1:\n",
    "        rhstr = 'AV' #Rule 2\n",
    "    elif lhch == 'A' and s == 2:\n",
    "        rhstr = 'AP'\n",
    "    elif lhch == 'A':\n",
    "        rhstr = 'B'  # Rule 2\n",
    "    else:\n",
    "        rhstr = lhch    # no rules apply so keep the character\n",
    "\n",
    "    return rhstr"
   ]
  },
  {
   "cell_type": "code",
   "execution_count": null,
   "metadata": {},
   "outputs": [],
   "source": [
    "#np.random.randint(10,150,100)\n",
    "a = 'A'\n",
    "#print(np.array([list(a) for word in a ]))\n",
    "b = list(a)\n",
    "\n",
    "print(b[-1], b)\n",
    "for z in range(1,10):\n",
    "    for i in b:\n",
    "        if b[0] == 'A':\n",
    "            b[0:1] = 'A'\n",
    "print(b)"
   ]
  },
  {
   "cell_type": "markdown",
   "metadata": {},
   "source": [
    "Alfabeto:\n",
    "C i = cambial inicial\n",
    "C d = cambial diferenciable\n",
    "V = vaso\n",
    "F = fibra\n",
    "P = parénquima\n",
    "Sistema-L estocástico\n",
    "p\n",
    "W : C i\n",
    "p1: C i →C i C d\n",
    "p2: C i < C d 0.33 → C i F\n",
    "p3: C i < C d 0.33 → C i P\n",
    "p4: C i < C d → C i Vp\n",
    "p5: C i < C d > F→ F p11: C i < C d > V→ F\n",
    "p6: C i < C d > F→ P p12: C i < C d > V→ V\n",
    "p7: C i < C d > F→ V P13: C i < C d > V→\n",
    "p8: C i < C d > P→ F\n",
    "p9: C i < C d > P→ Pp\n",
    "p10: C i < C d > P→V"
   ]
  },
  {
   "cell_type": "code",
   "execution_count": null,
   "metadata": {},
   "outputs": [],
   "source": []
  },
  {
   "cell_type": "markdown",
   "metadata": {},
   "source": [
    "# Word counting\n",
    "Using the random_files array to count frequencies and stablish the vocabulary with a defined k-mer length.\n"
   ]
  },
  {
   "cell_type": "code",
   "execution_count": 22,
   "metadata": {},
   "outputs": [],
   "source": [
    "#Get words regresa un diccionario con las palabras y los conteos.\n",
    "#Se puede aprovechar para usarlo con multiples conteos\n",
    "def get_words(file, x):\n",
    "    \"\"\"Determine the number of different words in \n",
    "    a given string. It needs two arguments: \n",
    "    1)a given string\n",
    "    2) the length of the k-mer to determine\"\"\"\n",
    "    #Create empty set to add the different words\n",
    "    words = {}\n",
    "    #go trhough the string:\n",
    "    for z in range(0,len(file)):\n",
    "        word = file[z:z+x]\n",
    "        if len(word) == x:\n",
    "            words[word] = words.get(word,0)\n",
    "            words[word] = words[word] +1\n",
    "        else:\n",
    "            pass\n",
    "    return(words)"
   ]
  },
  {
   "cell_type": "code",
   "execution_count": 30,
   "metadata": {},
   "outputs": [],
   "source": [
    "def get_all_words(array):\n",
    "    \"\"\"Determine the number of different words in \n",
    "    a given array. It uses the get_words function\"\"\"\n",
    "    #Create empty set to add the different words\n",
    "    words = {}\n",
    "    #iterate trhough the files:\n",
    "    for i in array:\n",
    "        x = get_words(i, 4) \n",
    "        for keys,values in x.items():\n",
    "            words[keys] = words.get(keys,0)\n",
    "            words[keys] = words[keys] + values \n",
    "        #aquí debería de venir una forma de agregar cada \n",
    "        #diccionario de x a words\n",
    "    return(words)\n",
    "#Se cambió la función..... en lugar..\n",
    "#Parece que las dos funciones funcionan.#Utilizarlas con los datos"
   ]
  },
  {
   "cell_type": "code",
   "execution_count": 31,
   "metadata": {},
   "outputs": [
    {
     "name": "stdout",
     "output_type": "stream",
     "text": [
      "{'APFP': 1, 'PFPF': 1, 'FPFP': 3, 'PFPP': 2, 'FPPV': 4, 'PPVP': 2, 'PVPP': 2, 'VPPV': 2, 'PPVV': 3, 'PVVV': 3, 'VVVF': 2, 'VVFV': 2, 'VFVF': 3, 'FVFF': 6, 'VFFP': 5, 'FFPF': 4, 'FPFV': 2, 'PFVF': 4, 'FFPP': 3, 'FPPF': 1, 'PPFV': 1, 'PVVP': 2, 'VVPF': 3, 'VPFV': 2, 'VFFV': 3, 'FFVF': 5, 'FVFV': 3, 'VFVV': 2, 'FVVP': 2, 'VVPV': 2, 'VPVF': 2, 'PVFV': 2, 'VFVP': 2, 'FVPP': 2, 'VPPP': 1, 'PPPP': 2, 'PPPV': 2, 'VVVV': 2, 'VVVP': 1, 'VPFF': 3, 'PFFV': 4, 'VPPF': 1, 'PPFF': 1, 'FFVP': 2, 'FVPF': 2, 'FVFP': 3, 'VFPP': 1, 'FPPP': 1, 'PPVF': 3, 'PVFF': 3, 'VFFF': 2, 'FFFF': 2, 'FFFV': 1, 'VFPF': 2, 'FFPV': 1, 'FPVP': 1, 'PVPF': 1, 'VPFP': 1, 'PFPV': 2, 'FPVV': 3, 'VFPV': 1, 'PFFP': 2, 'PVVF': 1, 'VVFF': 1, 'FFFP': 1, 'FPFF': 2, 'PFVV': 1, 'FVVF': 1, 'VVFP': 1}\n",
      "{'AFFF': 1, 'FFFP': 1, 'FFPV': 1, 'FPVP': 2, 'PVPV': 3, 'VPVV': 3, 'PVVV': 1, 'VVVP': 1, 'VVPF': 1, 'VPFP': 1, 'PFPP': 1, 'FPPP': 1, 'PPPV': 1, 'PPVP': 1, 'PVPF': 1, 'VPFV': 1, 'PFVV': 1, 'FVVP': 1, 'VVPV': 3, 'PVVP': 3, 'VPVP': 2, 'PVPP': 1, 'VPPV': 1, 'PPVV': 1, 'VPVF': 1, 'PVFF': 1, 'VFFV': 1, 'FFVF': 1, 'FVFV': 1, 'VFVV': 1, 'FVVF': 1, 'VVFP': 1, 'VFPV': 1, 'VVPP': 1, 'VPPP': 1}\n"
     ]
    }
   ],
   "source": [
    "print(get_words(random_files[1],4))\n",
    "print(get_words(random_files[2],4))"
   ]
  },
  {
   "cell_type": "code",
   "execution_count": 32,
   "metadata": {},
   "outputs": [],
   "source": [
    "x = get_all_words(random_files)"
   ]
  },
  {
   "cell_type": "markdown",
   "metadata": {},
   "source": [
    "Las funciones ya funcionan. Ahora se tiene cargar un de pedilanthus y convertirlo en una lista de strings."
   ]
  },
  {
   "cell_type": "code",
   "execution_count": 39,
   "metadata": {},
   "outputs": [],
   "source": [
    "with open('../Data/P_bracteatus/845_edited_cells.txt', 'r') as f: # 'r' stands for reading\n",
    "    bractetus_845 = f.readlines()\n",
    "bracteatus_845 = [x.strip() for x in content] "
   ]
  },
  {
   "cell_type": "code",
   "execution_count": 41,
   "metadata": {},
   "outputs": [],
   "source": [
    "bracteatus_845_words = get_all_words(bracteatus_845)"
   ]
  },
  {
   "cell_type": "code",
   "execution_count": 42,
   "metadata": {},
   "outputs": [
    {
     "name": "stdout",
     "output_type": "stream",
     "text": [
      "{'FFFF': 7521, 'FFFP': 668, 'FFPV': 87, 'FPVP': 46, 'PVPP': 3, 'VPPP': 2, 'PPPF': 47, 'PPFF': 114, 'PFFF': 654, 'FFPF': 516, 'FPFF': 526, 'FFPP': 124, 'FPPP': 50, 'FPFP': 54, 'PFPF': 59, 'FPPF': 71, 'RRRR': 1715, 'PVPF': 49, 'VPFF': 58, 'FPVV': 19, 'PVVF': 6, 'VVFF': 9, 'VFFF': 39, 'PFFP': 51, 'PPFP': 10, 'RRRF': 15, 'RRFF': 10, 'RFFF': 7, 'FPVF': 22, 'PVFF': 30, 'FPPV': 11, 'PPVP': 10, 'FPFV': 1, 'PFVF': 1, 'FVFF': 3, 'RRRP': 2, 'RRPP': 2, 'RPPF': 1, 'PPPP': 29, 'VPFP': 7, 'RRFP': 5, 'RFPF': 3, 'PVPV': 2, 'VPVF': 3, 'PFPV': 1, 'PVVP': 9, 'VVPF': 13, 'PPVF': 4, 'PFPP': 10, 'PVVV': 5, 'VVVP': 4, 'PPPV': 3, 'VPPF': 1, 'RFPV': 1, 'VVPP': 1, 'VVVF': 2, 'FFFV': 11, 'FFVP': 4, 'FVPV': 1, 'VFFP': 3, 'RFPP': 1, 'FFVV': 4, 'FVVV': 1, 'VVPV': 1, 'RFFP': 3, 'FVVF': 1, 'FFVF': 2, 'VFFV': 1, 'FVPF': 3, 'RPPV': 1, 'FVVP': 2, 'VPPV': 1, 'PPVV': 2, 'PVFP': 1, 'VFPV': 1}\n",
      "{'APFP': 5, 'PFPV': 98, 'FPVF': 96, 'PVFV': 85, 'VFVF': 106, 'FVFP': 97, 'VFPF': 102, 'FPFP': 102, 'PFPF': 84, 'PFPP': 101, 'FPPV': 95, 'PPVF': 82, 'PVFP': 83, 'VFPP': 92, 'FPPF': 90, 'PPFP': 100, 'FPFF': 89, 'PFFV': 95, 'FFVP': 95, 'FVPV': 82, 'VPVF': 96, 'PVFF': 104, 'VFFF': 90, 'FFFF': 113, 'FFFV': 96, 'VPVP': 99, 'PVPF': 89, 'VPFV': 84, 'PFVP': 69, 'VPFF': 109, 'FFVV': 98, 'FVVV': 95, 'VVVV': 115, 'VVVF': 96, 'VVFV': 114, 'VFVV': 104, 'FVVP': 86, 'VVPF': 98, 'PFFF': 105, 'FFFP': 95, 'FFPF': 93, 'FPFV': 91, 'PFVV': 85, 'VPFP': 85, 'FVPP': 92, 'VPPV': 78, 'PPVV': 102, 'PVVF': 94, 'VVFP': 103, 'PPFV': 74, 'PFVF': 90, 'FVFV': 105, 'PPVP': 85, 'PFFP': 96, 'FFPP': 75, 'FPPP': 81, 'PPPP': 74, 'PPPV': 98, 'PVVV': 104, 'VVVP': 105, 'VVPP': 98, 'VPPP': 103, 'VVFF': 78, 'VFFP': 83, 'FFPV': 107, 'FPVP': 99, 'PVPV': 103, 'PVPP': 88, 'FVFF': 82, 'PVVP': 106, 'VFFV': 88, 'FFVF': 85, 'VVPV': 102, 'VFVP': 99, 'VPPF': 90, 'PPFF': 91, 'FVPF': 89, 'FPVV': 101, 'VFPV': 89, 'FVVF': 107, 'AFFF': 5, 'VPVV': 98, 'APPF': 3, 'PPPF': 83, 'AFFP': 4, 'AFVP': 4, 'AVFP': 6, 'AFPF': 5, 'AVPV': 9, 'APFF': 9, 'APFV': 2, 'AVFV': 7, 'AFVV': 4, 'AFPV': 4, 'AFVF': 3, 'AVPF': 4, 'AVVV': 4, 'AFPP': 2, 'AVVP': 3, 'APPV': 2, 'APVV': 6, 'APVF': 2, 'AFFV': 3, 'AVVF': 2, 'APPP': 2}\n"
     ]
    }
   ],
   "source": [
    "print(bracteatus_845_words)\n",
    "print(x)"
   ]
  },
  {
   "cell_type": "code",
   "execution_count": 45,
   "metadata": {},
   "outputs": [
    {
     "name": "stdout",
     "output_type": "stream",
     "text": [
      "56238698\n"
     ]
    }
   ],
   "source": [
    "ss = 0\n",
    "for i,v in bracteatus_845_words.items():\n",
    "    for j,z in x.items(): \n",
    "         if i==j:\n",
    "                ss+= ((v-z)**2)\n",
    "print(ss)                     "
   ]
  },
  {
   "cell_type": "code",
   "execution_count": 46,
   "metadata": {},
   "outputs": [],
   "source": [
    "import math"
   ]
  },
  {
   "cell_type": "code",
   "execution_count": 47,
   "metadata": {},
   "outputs": [
    {
     "data": {
      "text/plain": [
       "7499.2464954820625"
      ]
     },
     "execution_count": 47,
     "metadata": {},
     "output_type": "execute_result"
    }
   ],
   "source": [
    "math.sqrt(ss)"
   ]
  },
  {
   "cell_type": "code",
   "execution_count": null,
   "metadata": {},
   "outputs": [],
   "source": []
  }
 ],
 "metadata": {
  "kernelspec": {
   "display_name": "Python 3",
   "language": "python",
   "name": "python3"
  },
  "language_info": {
   "codemirror_mode": {
    "name": "ipython",
    "version": 3
   },
   "file_extension": ".py",
   "mimetype": "text/x-python",
   "name": "python",
   "nbconvert_exporter": "python",
   "pygments_lexer": "ipython3",
   "version": "3.6.9"
  }
 },
 "nbformat": 4,
 "nbformat_minor": 2
}
