{
 "cells": [
  {
   "cell_type": "markdown",
   "metadata": {},
   "source": [
    "En este notebook se hace una aproximación de los sistemas Lindenmayer para modelar la diferenciación de las células iniciales cambiales fusiformes.\n",
    "Antes de comenzar es importante introducir nociones báscias acerca de los sistemas Lindemayer así como las condiciones para simular el proceso de desarrollo cambial.\n",
    "Definir un sistema que crezca en una sola dirección para simular una célula cambial que da origen a una célula inicial fusiforme y a otra cambial."
   ]
  },
  {
   "cell_type": "code",
   "execution_count": 1,
   "metadata": {},
   "outputs": [],
   "source": [
    "import random\n",
    "import matplotlib.pyplot as plt\n",
    "import numpy as np\n",
    "import turtle"
   ]
  },
  {
   "cell_type": "code",
   "execution_count": 2,
   "metadata": {},
   "outputs": [],
   "source": [
    "def applyRules(lhch):\n",
    "    \"\"\"Apply stochastic rules using random distribution\n",
    "    for values between 0 and 2 to apply rul1 or rule2 or\n",
    "    rule3 \"\"\"\n",
    "    rhstr = \"\"\n",
    "    s = np.random.randint(0,3,1)\n",
    "    if lhch == 'A' and s == 0:\n",
    "        rhstr = 'AF'   # Rule 1\n",
    "    elif lhch == 'A' and s == 1:\n",
    "        rhstr = 'AV' #Rule 2\n",
    "    elif lhch == 'A' and s == 2:\n",
    "        rhstr = 'AP'\n",
    "    elif lhch == 'A':\n",
    "        rhstr = 'B'  # Rule 2\n",
    "    else:\n",
    "        rhstr = lhch    # no rules apply so keep the character\n",
    "\n",
    "    return rhstr"
   ]
  },
  {
   "cell_type": "code",
   "execution_count": 3,
   "metadata": {},
   "outputs": [],
   "source": [
    "def processString(oldStr):\n",
    "    newstr = \"\"\n",
    "    for ch in oldStr:\n",
    "        newstr = newstr + applyRules(ch)\n",
    "    return newstr"
   ]
  },
  {
   "cell_type": "code",
   "execution_count": 4,
   "metadata": {},
   "outputs": [],
   "source": [
    "def createLSystem(numIters,axiom):\n",
    "    startString = axiom\n",
    "    endString = \"\"\n",
    "    for i in range(numIters):\n",
    "        endString = processString(startString)\n",
    "        startString = endString\n",
    "    return endString"
   ]
  },
  {
   "cell_type": "code",
   "execution_count": 5,
   "metadata": {},
   "outputs": [],
   "source": [
    "lengths_array = np.random.randint(10,150,100)\n",
    "random_files = []\n",
    "for i in lengths_array:\n",
    "    random_files.append(createLSystem(i,'A'))"
   ]
  },
  {
   "cell_type": "code",
   "execution_count": 6,
   "metadata": {},
   "outputs": [
    {
     "data": {
      "text/plain": [
       "['AFVFVVPPFVFVVPFFFFVFPPFVFVFVVPPVFFPVFPVPFFVVVPFPVPFFPPPFPFFFFVVVPPVVPVPPPFVPFVVVFPPVPPVVVPVPVVPPVPVFFFVVFVFVVFFVVVVFVPVVPFVFPVPVFF',\n",
       " 'AFFPPVFFPVVFPFFPVFPVFPFPVFVVFVFPFFVPVVPVPPPFFFPVPPPFPVFVPPV',\n",
       " 'AFPFVFVVPVPPFPPVPPFFFFVVFVPVFVVFPFVVVPFFPVVFVFPVPFFFVFVFVPFFFFPPPPFVFVFVPPFFFPF',\n",
       " 'AFVFVPVVVVPPFPPVFFPFPVFPFPPFVFVVVVPPFFPVPFPPFFFFPPVFPFVPVPPFPFFPFVVPVFPVVVFVVVFVVFPFVVPFFVPFPFPFPPPPFVPFFVV',\n",
       " 'AFPVPPVPFPPPPFPVPVVFFPPFFPVFFPPVVFVPVVVFPPFVVPFFFFVFFVPFPVPVPPPPPFFFVVPFPVVFFFFPFVFVPPFPVPVVVVFFFF',\n",
       " 'AVFVPVVPVPVVPVFVFPPFFPVFFVFPFPPVPPPVFVVPPFFFVVFVVVVFPVVVPFVFPFFF',\n",
       " 'APFPFPPFVPPVFFVPPFFFFVFPVFFVFVVPPFVPFPVFVFPVVVPPPP',\n",
       " 'APPVVPVVFVPPPVVPFPFVVFVVVVFPVPFVPFPVFFPFFVPPF',\n",
       " 'APVPVPVVPFFVVVVPPFPVVFVFPPVPVFPPPFVVPFPPFVVFVFVVFPP',\n",
       " 'APVFFFVPPFPVFPPPFFFVVFPFFFPPVPFFFVFPPPFFVPVFPPVPVPFPVPVFFFFFPPPFVFPPFVFFPFVFFFFPPFFPFVPVFFPFFPPVFFPVVVF',\n",
       " 'AVPVFFFVVVPVVFVVVVFVPVFPVFVFVP',\n",
       " 'APPPPPFVVVVFFPFVFFFPVVVVPVVVVFPPFPPFVFFVVPVFPPFVVVFPVPFFVFFPFVPFPVFVFPFFPPPPVVPFPFFPVVPPFFVVFFV',\n",
       " 'APPPFFPPVVVFFPVFVPVVFVVP',\n",
       " 'AVFFPFVVVFFFFVPVPPVFPVVFVPFFVFFVPFVFPFVVPFFVVPFVPVFFVPFFFFPVPFFFFVVVFFFFVFFFPPVPPPPFFVVPFFFPPVPVFPVFPFFVVPFF',\n",
       " 'AVPVVVFPFPFVVPVVVVPPFFVPPFFFPFVVVVVVVPPV',\n",
       " 'APFVPVVFPFFPFPFVVVFVVVVFFPVPVPFFFPPFPVVFVPPVFFPVPPFPVFPPFFPFFVPV',\n",
       " 'AVFVPPVPVVFPPPVVVPPVFPVFVPFPFPVVVVFVVFFPFVFPFFPVVFPFVPVVFPFPPPFVPVFPVVF',\n",
       " 'APVPFPVFPFPPVPVFPPFVFVVVFFVFVFPPVFVPVFVPVVFPVVFPPVFVPPVVFVVFPPPVVVFPFVPPVPVPFPPFVVPFPVPVVVPVFVFPPPPP',\n",
       " 'AFFVVPVVPVVVVFVVVFVFFVVPPVPVPFFFVFPVVPPVPPPVFPPVFFVFVVVFPFVFPPPFPFVVVPVVPPFFPPFFVPFPFPPVFPFVPVFVPVFFVVFVPPPPFVPPPVV',\n",
       " 'AVPPVVFFFVVFVPFVP',\n",
       " 'APVPFVFPPVFVVFFFVPVVPVFVFFVVVVVFPVVPFPFVFFFFPPVVFFPFF',\n",
       " 'AFFPPVFPPVFPFPPFFVFPVPPFPVVFFPVVFPPPPVPPPPPFFVFPVVFPFFVPVFPPPPVFPPFFPVPFVPPVPVPFFFVPVVVVVVPFPVPPVFPPVPVVFPVFV',\n",
       " 'AVPPPVFVVVFFFPPPPVFPVFPVPPFPPFVVPVVVVFFVFFFFFPPVVFVFVPVFFFPVPFFVFPVFFPPFFFPVPPPFVFFFPVPPPFPFFFVPVFFFVVVVPFVFFFFVPFVFPFFVVVPFFFFPFFPFFV',\n",
       " 'AVVVPFVVPVVVVVPVFVPFFPPVPFFFPVVPFFVFPPVFFPFVFPFPVPPPVFVVFVPFVPFVPVFFVFFV',\n",
       " 'AVFVVFFVFPFPPFVFPVVPVFPFFPFVPFVFPPVFVPVFPVFVFFPFVFVFVPFVFVFPPVVV',\n",
       " 'AFPFPPFFVFFVPVFFPVVPFVVPVVFFPPVVPPFPPFVPFFPVVPFFFPPVPVPPPFFFVPFPFFPPVPFFPFVVPVFVFPPFVPVPFFPFVPFFFFVFVVVFVVFPFVFFFPVVPVFFVVFVPVVPPVPVPVVFVFF',\n",
       " 'AVVFPPPPPPVPVPVPVFPFFFVPPPVVPPPFFFPFVFPPPFVVVFPPVVPPFVVFPPFPPPVFFFFVPPFFPFFVFPFVVFPVVFPFFFVVPVPF',\n",
       " 'APFFPPPFPVPFVVFPVVPVFPPVVVPVVPFFFPVFPPVFPFPPVVPFFPVFVPFVFFFPFFFPVFVPVFFPFPVPPVVFVVVFFPVFPVF',\n",
       " 'APPPPVFVPFVVVVPFVVPPFVVPVVPVVVPFPVPFPVVPVVFPVVVPPPPFPPVVFFPFVVVPFFVPVPPVVPFFVVFPPPVVFFVPPPFVPFPPVPFFFPFPVFPFV',\n",
       " 'AVVPVVPPVVPPVVPVVFFVVVFFPPFFFFVFVFVPFFPVVFFPPFFFFFFFVPVFVFPVVFVPVVPVVVFPPVVFVFFPVPVFVPPVPVFVVPPPVFPVVFVPFVFPVPVFPF',\n",
       " 'AFPPPPVFFPPFPPVVFFVPFPFVVFVFPFPFPP',\n",
       " 'APFPFVVPFPPPPFVPPPFFPFFFPFVPVFPVFPVFVFFFFPFFFVPPPFVVVPPPVFPPVVVVPFPPFFPVPVVPVVFVPVVVFPVPVVFPPPFPFFPVVVFVPVFFPFFP',\n",
       " 'APVPPFFFPPVFVPPPPVFFFPVVFVFFVVPVFVFVFPFVFVP',\n",
       " 'AVVVPPFVPFVFVPVVPVPVPPFFFPVPVPFPVVFVFVPFVVPPVPPFVFFVVVVVFFVVPVFVVFPFFVVPPPVPFFFVFFPVFVPFVVFVPPFVFPVVPFFFPVFFPVFFFVVVPPPPVFPVPVPPPPFPVPP',\n",
       " 'APPFFFFPVPFPVVFVFVFVVFVVPFFVVPFVPPVVPFPVPPFPFPVVFFPFPPFFPPVFFFVFVPVPFVFFFVPPVVVPPFPVVVPVFFVPVPVVFFVFFVVFPFVVVVPVFFPPPFVPVPPVVFFPVPVVFPF',\n",
       " 'AFPFPPFVVPPVFVFVVFPVFPPFPFVPPPVPFFPPVFVPPVPFFPVFPVPPPFPPVVVVFPPFPFPFVPFFVFVFPFPVFVVFVVPVFFVVVFVPVVPP',\n",
       " 'APVVPVFPPFVVFFVVPPVVFVFFPFFFVVFFPVFP',\n",
       " 'AFVPVVVFVVFVFPFVVPVFPFVVFPPVFPPFPVFVPVPVVPVVPPVFPFFVPFPVPPVFPVFPPFPFPFPVVPFFVFFFFFVFPPFFFFPPPPFFFFPPF',\n",
       " 'AFVVFVPFFVPVPPVPPVVFVFFFVVVFPVFFFF',\n",
       " 'AVPPVVPPFPPFPVPFFFVPVFPFPPPFVFVVFVPFVPPFPVPFPPFFFFFFVFFFVPFPF',\n",
       " 'AVFPPPPFPPPPPFFFVPFFVPPFVVVVFVVPPFPVPFVPVVPFFPVPFVFPFFFFVPVPVVVFPFFPFF',\n",
       " 'APVFPVPVPFFPFVVVPVPVPFFVFFVVVPPPVFVVFFPVVFPVFVF',\n",
       " 'AVPPVPVFPFPPVVVVFFFFVVPPPVFVFVVPFFVVPVVFVFVVFFFF',\n",
       " 'APPPPPFVFFPPVFVVVPPVPVPPFVPFV',\n",
       " 'APPFFVFVVVVPPFFVPFFVFVFVVFPPFVFVVFFPFPVVFPPPVVFPVVVVVVFPPVPVVFPVFFFFFVFPFFVFFPVPV',\n",
       " 'AFPVPFVFFFVVPVVPPFPVVPFFFVVPFPFPFFPFVFVVFFVFVVVPPFPVFFPVFFPFPFVVFVPPFFV',\n",
       " 'APFVFFVPVVFPFVFPFPVPPPFFFVPPPFFVPVVVVFVPPFFVVFVFPFFVVPVFVPVFVPVFVFFVVPFPFVPPPVPPFVFVVVFPPVFFFPPVVPVVFVFVVFVVVPFFPPFVPPPVP',\n",
       " 'APPFVPPPVFVPVVFFPPFVVPFFVPVFFFFPVVFFPPPVVVPVPFFVVPPVVVVPFPPPPFPFVPFPPVFPPVPFVVVFVPVVPPFVPVPVVVFPVPFVFFPFPPFPFPPVPFFPFV',\n",
       " 'AFVVFPVPPPVFFPPVVFVFVFVPVFFVFPPFVPVVPVFPFPPVVFVPFVFPVPFFPPVFVVPFVFVFPFPFPVPFPFPFPFFFFPFFVPVPPVFPVFFFVPFVVVPFFFVVPVVVFVVFPFVFF',\n",
       " 'APPPFVFVPFVPPPFFVFFPVFPVPPFFPVVFVVVFFVFPFPPVVPPVPPFVPFFPPFPFPVFPVVPPFVVVVVVFPPFFVFPVPPVFFPVFFVVPVPPFVPFVPFFVFFP',\n",
       " 'AFFVPFFPFVFPVPPPVVFFPFVFFFFFFVVVVFFPPPFVFPFVPVFPPFPVPPFFPFFVVPVVVFFFVVFPPFPPFPPPPVVPVFVPPFPVFVVVVFVPPFFVVPPPPPPFPPFPPPPPPPFFVPVFFVFVFVFVFPPFVPVFFPFVFP',\n",
       " 'AVPPVFVFVPFFPVVPPFFVVVFFPPPFFPPPPVVVVPVPFPFPVFFFVVVFPPFVVVVPPPVVFPVPVVFFFVFFFVFPPFPV',\n",
       " 'APPPVVVVVPPPPPFPPPFPVFPPVFPFFVPVFFFPPVFPVPVPPFVVPPPPVVFPVVPFVPPVPFPPPPFFFVVVPVVPV',\n",
       " 'AFVPFFPFVFFVPFVFFVVFVPFPVFFPPFPFFVFPPFPPFPFVVVVVVPVFFPPFVPPFVVFPPPPVVVPFPPFVPFFPVPPPVPVPVFPVFVVP',\n",
       " 'AFVVPPVFVFVVFPFFFFVFVVPPFPPVVFFPPFFVPFPPPFVPPVFPVVPPPVFFFFVPVVVVFPPPFPPFVPFPFFPVPF',\n",
       " 'AFVVFPFVPFPVVPFFFVFVVPV',\n",
       " 'AFPVFVVVPFVFPPFPVFPFFVPFPFVFPVVFVPVPFFFFVPFVFPFPPFVFPFVPPVFVFFPVVFVVVPVPV',\n",
       " 'APFPPVVPPVVFPFPPPPPPFPPFVPPVVVFVPPFFPFFPPPFFVFPPFPFFFPFVVVFFFVPPPFFFFP',\n",
       " 'AFFFVPPFVVFPFFFPVFFPVFVPFFPFPFFVVVPPVPFPPVVFPPPPFFPFPVF',\n",
       " 'AVPPPVVPPFPPVPPVVVFPPFVFP',\n",
       " 'AFVFPVVPVVVPFPPFVFFFPVFFFFFVPVPVFFVVVVPFPFPFPPFFPVVFVPPVFPPPPFVVVVVVFFFFPVFFFVVPVVFFPPPFFPPVVVVPFPFFPPPFFFVPPFPFPFVFVPFVPFFVFPV',\n",
       " 'APVFFVPVFVFVFVPPPFF',\n",
       " 'AVVVPVVFFVFFFPFFFFPFPVPFVVFFVPPVPFVPVPVFVFPVVFVFFPFPPPVPVFVPVPVPPPFVPFVFPVVFFFVPPPVFPPVPVPPVVVFPPFPVPPPFPVFPVVFVVPVVFPFVPVFVPPPVFVVPFV',\n",
       " 'APPFVVFVVFPPFVVPPPPPPVPVFPPPF',\n",
       " 'AVFPVPVPPFPFFFFFPVPPVPFPVPPFVVVFVFFPPFFPVFVVPVVFFPFVPPVPVFPVVF',\n",
       " 'AFVPPPPPFVPFFVVFFFVFVPVVVVFVVFVFVVVPFVFPPPPPFVVFVVPFFVFFPPFPPPVFFVPVPFFVFFF',\n",
       " 'AFVPVVPVVPPF',\n",
       " 'APFFPPVPFFFFPVFVVVVFVPVFVVVPPPPVVFFFVFFPFPVFFVPVFFPVPPVFPPPFPPPPPVVVVFVPVPFPVPPVFVFVFP',\n",
       " 'AFVPPFPPFVPPFFFPFVPFPVFFFVVPVVPVVVVVPFPPVPFVFPVFFPVFPPVFVPFVVVPVFVPPP',\n",
       " 'AVPFPFFPVVVVPVPFFPFFVFVVPFFFFPPFFPVFVVPFVPPFFFVFPVFFVFVPFVFPPVPVFPVPFFVVPFVVPFVVPFFPVVVVPVFVFFVVFPVVPPPFFVPVPFPPFVPFPFPVVFFPPVPFVFFVVFFVFFVPVP',\n",
       " 'AFVPPVVPFPPVPPPFPVVFVPPVFFVFPFPFFFVPFVFPPPF',\n",
       " 'AFVVFFFPFVFVFFVFPPFPVFVFPVVPVFPFPPFPVVVPPVVPFVVVFVPVFPPVFVFVVPFVPVVVFVFVVPVPFPPVFP',\n",
       " 'AVFVFPVPFPFPVVFVPVFPPFPVVPFFFFVPFFPFFFPFVFFPVPFFFVPPVFVFVVPPFPPFVVVVVVPPPPPPVVFFPVPPFVVPFFFPVPVVFPPFVPVVVFPFFPVPFFPPPFPFPFPFFVFPPPFFVF',\n",
       " 'APVPPPVVFPPFFFFVVFFFFVFVPPPPFFPFFPFVFPVFVFFFPFVVVVFVVFVVFFVVVFPPVFPPPPPVPFFVPFVPFPVPFPVPFFPVVVPFFVVPVVFVPVFPFPFVFFPVFV',\n",
       " 'AVVVVFFVFFFFPPFVVPVVFPPFFFVFFVPVVVPVVPVVFPPVVFFF',\n",
       " 'APVPFFVVFVVVFVPFPFPPFVPFPVVVFPPFFVFPPVVFFPVVVPFFVVPFFPPFFP',\n",
       " 'AVPVFPVPFFPFPFFVVFFPVVFVVVVFFPVPPFFPFPFVVPFVPPPPPFPVFVPFVVPPFFFFPVVFPVVPFVPVPVVFFPVPFFVVPFFFFPVVFVPFPFFVPPPFFPPVVPPVPPVVVPPFV',\n",
       " 'APVFPPFVVVVPVVPPVVFVPFFFPFVPPVPPPFPPPFVPVVFVFFPPPFVPVPFPVVFPFFFVVFFFVFVVFVFPVVVPPVFFVF',\n",
       " 'APVPPPPPVFFFVVVPPVVPVVPFPFVPPPPVVVVFVVVVVPPFFVVPVVFFFVFVVPPPVPPPPPPVFFPPFFFPPFFVFPVFPVVFFVPPPVFPPVPFVPFFFPF',\n",
       " 'APPPFPPVVFFPFFPVFFFPFPVPVPFPVFFPPFPFVFPPFFPFVFPVVFVFPVPFVPPFFPFFVPFPPFVFPVFVPFPVVFFPPFFFFFFFPPPPFFVFPVFFVFVPVPPFPVPPVVPFPFFPVVVFFVPV',\n",
       " 'APFFVFPFPPFPPPVPFPVPPFFPPFVVPPVPFVPVPVPVFFPFPVPVVPVVFFVFPVPVVFPVFPVPPPPFF',\n",
       " 'AFVPPFVPFFFVVFPFPVPFPPVVFPFPPFVVFPFPPFVVFPFFPPFPVFFPVPVPFVPVVFPVPPF',\n",
       " 'AFVPPFVFFVVFVVFFPV',\n",
       " 'APPVPVFVVVPVPVVFPFFFFPPFVFPPFPFFPFFFVPFPVPVPFVVPVFFFPPFFPVFPPFPFPFVVPFVFVVVFFPPFFPVVPFFPFPPFFFPFFVVPPPFPFV',\n",
       " 'APFPVVPPFFFFPVPVVFVVVFPFFVPVPVFPFPPPFVP',\n",
       " 'APFVVVPPFPPVFPVPPVVVFVFPVFFPFVVFPVPFPVFVPVVFFPPFVFVVVFVFPVVVVPFFFFPVFPVVPPPFPFVPVFPFVPPV',\n",
       " 'AFVFVPPFPPFV',\n",
       " 'AFVPFVVFFFFPFPFPPFVVPPVPVPFFVPFPPVFFFPPPFPFVFPFPFVVPVVPPPFVVFFVFPVFVFPVVFFPPFFVVFVFVPPFVPPVVFVPPFPFFFV',\n",
       " 'APPPVFPFPFPPPVFVFFVFPPFVF',\n",
       " 'AVPFPPPPPPVFVVFPVVFFFPPPFVFPVVVVVFVFVPVVFPFVPFVPV',\n",
       " 'APPPFPPPVPPPPVFPFVFFPPPFPPVFFVVFVVPFPPVPFFPVPVPPPFFPPVVPVVFVFVPFFVPVFFFVPPFPVVPVPFVPPFFPPFVFPVVVFVFVFVPFPVPVPVP',\n",
       " 'AFVPVFPVPFPVFVPPFVVFFFFVFFFFFPVV',\n",
       " 'AFFFPFPPPFPVVFVFVPPFPPPFVFFPPFPFPPFFVVPFVFVFPPPVVVFV',\n",
       " 'AFFFFPPVFVPFFVVFFPVVFFFFFVPPFPVFFVFFPVPPPPPPPVPFFFVFPPFFPVPFVVFPPVVVPPFPVFFFFVFPPFFPPFVPPVPFVFPFFPPPPFFFPFPFPPPPFVPFPPVVPVVFFFFPPPFPPPFVPFVF',\n",
       " 'AFVFVFVFVFFPVPFVFPVFPVFVPPFPVFPFFPVPPVPFFFPVPPVFFVVPFFVFFPPVVFVFVPFVPPFFVVFVVVPP',\n",
       " 'AFFVVFVVFPFPPVVFPFFVFPFFVFPVFPFFPFVFPVFFPFFPFPVFPVFVFFVFPFFVVFVPVVFVVPPFVPVVFPVPFVPVPFFFPFFPP',\n",
       " 'AFVVPPPPVVPVVFVFPVPFVVFPPPVPVFVPPVFPFVFPFVVFPFPVFVPFFFPPFFPVFVPPPPV',\n",
       " 'AVVFFVVPFFFVFFVVVPPVVFFPVVPPVFFVVFFFPPPPPFVVFVPVPPVFFPVPVPPPFP',\n",
       " 'AVPPFVFFFFVVFFFVPFPFFPFVFFFVPVPVVPPPPPPPFPFPPFVVVPFPVVFPPVPVVFVVVVVVFPPPFVPPPPVVFFPP',\n",
       " 'APFFPPFFVFVFPFVPVPVFPFFFVPVPFPPFVFFVVVVPVFFVVVFVFFVFPFPPPPVVPVPPVVPFPVVVVVPVVFPPPVVPP']"
      ]
     },
     "execution_count": 6,
     "metadata": {},
     "output_type": "execute_result"
    }
   ],
   "source": [
    "random_files"
   ]
  },
  {
   "cell_type": "code",
   "execution_count": 7,
   "metadata": {},
   "outputs": [
    {
     "name": "stdout",
     "output_type": "stream",
     "text": [
      "['A' 'B' 'V' 'V' 'F' 'V' 'F']\n"
     ]
    }
   ],
   "source": [
    "#np.random.randint(10,150,100)\n",
    "a = 'ABVVFVF'\n",
    "#print(np.array([list(a) for word in a ]))\n",
    "print(np.array(list(a)))\n"
   ]
  },
  {
   "cell_type": "code",
   "execution_count": 5,
   "metadata": {},
   "outputs": [
    {
     "data": {
      "text/plain": [
       "array(['A'], dtype='<U1')"
      ]
     },
     "execution_count": 5,
     "metadata": {},
     "output_type": "execute_result"
    }
   ],
   "source": [
    "#try new L-system with another approach\n",
    "cv.dividing = np.array(['A'])\n",
    "\n",
    "def createLSystem(numIters,axiom):\n",
    "    if axiom == 'A':\n",
    "        startString = np.array([0])\n",
    "        endString = np.array([], 'int')\n",
    "    for i in range(numIters):\n",
    "        endString = processString(startString)\n",
    "        startString = endString\n",
    "    return endString\n",
    "\n",
    "def processString(oldStr):\n",
    "    newstr = np.array([], 'int')\n",
    "    for ch in oldStr:\n",
    "        newstr = newstr + applyRules(ch)\n",
    "    return newstr\n",
    "\n",
    "def applyRules(lhch):\n",
    "    \"\"\"Apply stochastic rules using random distribution\n",
    "    for values between 0 and 2 to apply rul1 or rule2 or\n",
    "    rule3 \"\"\"\n",
    "    rhstr = \"\"\n",
    "    s = np.random.randint(0,3,1)\n",
    "    if lhch == 'A' and s == 0:\n",
    "        rhstr = 'AF'   # Rule 1\n",
    "    elif lhch == 'A' and s == 1:\n",
    "        rhstr = 'AV' #Rule 2\n",
    "    elif lhch == 'A' and s == 2:\n",
    "        rhstr = 'AP'\n",
    "    elif lhch == 'A':\n",
    "        rhstr = 'B'  # Rule 2\n",
    "    else:\n",
    "        rhstr = lhch    # no rules apply so keep the character\n",
    "\n",
    "    return rhstr"
   ]
  },
  {
   "cell_type": "code",
   "execution_count": null,
   "metadata": {},
   "outputs": [],
   "source": [
    "#np.random.randint(10,150,100)\n",
    "a = 'A'\n",
    "#print(np.array([list(a) for word in a ]))\n",
    "b = list(a)\n",
    "\n",
    "print(b[-1], b)\n",
    "for z in range(1,10):\n",
    "    for i in b:\n",
    "        if b[0] == 'A':\n",
    "            b[0:1] = 'A'\n",
    "print(b)"
   ]
  },
  {
   "cell_type": "markdown",
   "metadata": {},
   "source": [
    "Alfabeto:\n",
    "C i = cambial inicial\n",
    "C d = cambial diferenciable\n",
    "V = vaso\n",
    "F = fibra\n",
    "P = parénquima\n",
    "Sistema-L estocástico\n",
    "p\n",
    "W : C i\n",
    "p1: C i →C i C d\n",
    "p2: C i < C d 0.33 → C i F\n",
    "p3: C i < C d 0.33 → C i P\n",
    "p4: C i < C d → C i Vp\n",
    "p5: C i < C d > F→ F p11: C i < C d > V→ F\n",
    "p6: C i < C d > F→ P p12: C i < C d > V→ V\n",
    "p7: C i < C d > F→ V P13: C i < C d > V→\n",
    "p8: C i < C d > P→ F\n",
    "p9: C i < C d > P→ Pp\n",
    "p10: C i < C d > P→V"
   ]
  },
  {
   "cell_type": "code",
   "execution_count": null,
   "metadata": {},
   "outputs": [],
   "source": []
  },
  {
   "cell_type": "markdown",
   "metadata": {},
   "source": [
    "# Word counting\n",
    "Using the random_files array to count frequencies and stablish the vocabulary with a defined k-mer length.\n"
   ]
  },
  {
   "cell_type": "code",
   "execution_count": 24,
   "metadata": {},
   "outputs": [],
   "source": [
    "#Get words regresa un diccionario con las palabras y los conteos.\n",
    "#Se puede aprovechar para usarlo con multiples conteos\n",
    "def get_words(file, x):\n",
    "    \"\"\"Determine the number of different words in \n",
    "    a given string. It needs two arguments: \n",
    "    1)a given string\n",
    "    2) the length of the k-mer to determine\"\"\"\n",
    "    #Create empty set to add the different words\n",
    "    words = {}\n",
    "    #go trhough the string:\n",
    "    for z in range(0,len(file)):\n",
    "        word = file[z:z+x]\n",
    "        if len(word) == x:\n",
    "            words[word] = words.get(word,0)\n",
    "            words[word] = words[word] +1\n",
    "        else:\n",
    "            pass\n",
    "    return(words)"
   ]
  },
  {
   "cell_type": "code",
   "execution_count": 34,
   "metadata": {},
   "outputs": [],
   "source": [
    "def get_all_words(array):\n",
    "    \"\"\"Determine the number of different words in \n",
    "    a given array. It uses the get_words function\"\"\"\n",
    "    #Create empty set to add the different words\n",
    "    words = {}\n",
    "    #iterate trhough the files:\n",
    "    for i in array:\n",
    "        x = get_words(i, 4) \n",
    "        for keys in x:\n",
    "            words[keys] = words.get(keys,0)\n",
    "            words[keys] = words[keys] +1\n",
    "        #aquí debería de venir una forma de agregar cada \n",
    "        #diccionario de x a words\n",
    "    return(x)\n",
    "#Se cambió la función..... en lugar..\n",
    "#Parece que las dos funciones funcionan.#Utilizarlas con los datos"
   ]
  },
  {
   "cell_type": "code",
   "execution_count": 35,
   "metadata": {},
   "outputs": [
    {
     "data": {
      "text/plain": [
       "{'APFF': 1,\n",
       " 'PFFP': 1,\n",
       " 'FFPP': 1,\n",
       " 'FPPF': 2,\n",
       " 'PPFF': 1,\n",
       " 'PFFV': 1,\n",
       " 'FFVF': 2,\n",
       " 'FVFV': 1,\n",
       " 'VFVF': 2,\n",
       " 'FVFP': 2,\n",
       " 'VFPF': 3,\n",
       " 'FPFV': 1,\n",
       " 'PFVP': 1,\n",
       " 'FVPV': 2,\n",
       " 'VPVP': 3,\n",
       " 'PVPV': 1,\n",
       " 'VPVF': 2,\n",
       " 'PVFP': 1,\n",
       " 'FPFF': 1,\n",
       " 'PFFF': 1,\n",
       " 'FFFV': 1,\n",
       " 'FFVP': 1,\n",
       " 'PVPF': 1,\n",
       " 'VPFP': 2,\n",
       " 'PFPP': 2,\n",
       " 'PPFV': 1,\n",
       " 'PFVF': 1,\n",
       " 'FVFF': 2,\n",
       " 'VFFV': 3,\n",
       " 'FFVV': 2,\n",
       " 'FVVV': 2,\n",
       " 'VVVV': 3,\n",
       " 'VVVP': 2,\n",
       " 'VVPV': 3,\n",
       " 'PVFF': 1,\n",
       " 'VVVF': 1,\n",
       " 'VVFV': 1,\n",
       " 'FPFP': 1,\n",
       " 'FPPP': 2,\n",
       " 'PPPP': 1,\n",
       " 'PPPV': 2,\n",
       " 'PPVV': 3,\n",
       " 'PVVP': 3,\n",
       " 'PVPP': 1,\n",
       " 'VPPV': 1,\n",
       " 'VVPF': 1,\n",
       " 'PFPV': 1,\n",
       " 'FPVV': 1,\n",
       " 'PVVV': 1,\n",
       " 'VPVV': 1,\n",
       " 'PVVF': 1,\n",
       " 'VVFP': 1,\n",
       " 'VFPP': 1,\n",
       " 'VVPP': 1}"
      ]
     },
     "execution_count": 35,
     "metadata": {},
     "output_type": "execute_result"
    }
   ],
   "source": []
  },
  {
   "cell_type": "code",
   "execution_count": null,
   "metadata": {},
   "outputs": [],
   "source": []
  }
 ],
 "metadata": {
  "kernelspec": {
   "display_name": "Python 3",
   "language": "python",
   "name": "python3"
  },
  "language_info": {
   "codemirror_mode": {
    "name": "ipython",
    "version": 3
   },
   "file_extension": ".py",
   "mimetype": "text/x-python",
   "name": "python",
   "nbconvert_exporter": "python",
   "pygments_lexer": "ipython3",
   "version": "3.6.9"
  }
 },
 "nbformat": 4,
 "nbformat_minor": 2
}
