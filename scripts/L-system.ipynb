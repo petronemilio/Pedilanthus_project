{
 "cells": [
  {
   "cell_type": "markdown",
   "metadata": {},
   "source": [
    "En este notebook se hace una aproximación de los sistemas Lindenmayer para modelar la diferenciación de las células iniciales cambiales fusiformes.\n",
    "Antes de comenzar es importante introducir nociones báscias acerca de los sistemas Lindemayer así como las condiciones para simular el proceso de desarrollo cambial.\n",
    "Definir un sistema que crezca en una sola dirección para simular una célula cambial que da origen a una célula inicial fusiforme y a otra cambial."
   ]
  },
  {
   "cell_type": "code",
   "execution_count": 2,
   "metadata": {},
   "outputs": [],
   "source": [
    "import random\n",
    "import matplotlib.pyplot as plt\n",
    "import numpy as np\n",
    "import turtle\n",
    "import math"
   ]
  },
  {
   "cell_type": "code",
   "execution_count": 3,
   "metadata": {},
   "outputs": [],
   "source": [
    "def applyRules(lhch):\n",
    "    \"\"\"Apply stochastic rules using random distribution\n",
    "    for values between 0 and 2 to apply rul1 or rule2 or\n",
    "    rule3 \"\"\"\n",
    "    rhstr = \"\"\n",
    "    s = np.random.randint(0,3,1)\n",
    "    if lhch == 'A' and s == 0:\n",
    "        rhstr = 'AF'   # Rule 1\n",
    "    elif lhch == 'A' and s == 1:\n",
    "        rhstr = 'AV' #Rule 2\n",
    "    elif lhch == 'A' and s == 2:\n",
    "        rhstr = 'AP'\n",
    "    elif lhch == 'A':\n",
    "        rhstr = 'B'  # Rule 2\n",
    "    else:\n",
    "        rhstr = lhch    # no rules apply so keep the character\n",
    "\n",
    "    return rhstr"
   ]
  },
  {
   "cell_type": "code",
   "execution_count": 4,
   "metadata": {},
   "outputs": [],
   "source": [
    "def processString(oldStr):\n",
    "    newstr = \"\"\n",
    "    for ch in oldStr:\n",
    "        newstr = newstr + applyRules(ch)\n",
    "    return newstr"
   ]
  },
  {
   "cell_type": "code",
   "execution_count": 5,
   "metadata": {},
   "outputs": [],
   "source": [
    "def createLSystem(numIters,axiom):\n",
    "    startString = axiom\n",
    "    endString = \"\"\n",
    "    for i in range(numIters):\n",
    "        endString = processString(startString)\n",
    "        startString = endString\n",
    "    return endString"
   ]
  },
  {
   "cell_type": "code",
   "execution_count": 6,
   "metadata": {},
   "outputs": [],
   "source": [
    "lengths_array = np.random.randint(10,150,100)\n",
    "random_files = []\n",
    "for i in lengths_array:\n",
    "    random_files.append(createLSystem(i,'A'))"
   ]
  },
  {
   "cell_type": "code",
   "execution_count": 7,
   "metadata": {},
   "outputs": [
    {
     "data": {
      "text/plain": [
       "['AVVPFVFVFFVVVVVVVFPPFPPPVVFPPP',\n",
       " 'AVVPFFFVVVFPPVVPFFVVPFPVVPPVVFFPVVPVF',\n",
       " 'APPVFPFVPPPPFFVPPFFVVFVPVV',\n",
       " 'AVPPVPFFFFFVFFPPVVVFVFFVPVVPFVPPVPFPFFFFPFVFFFFVFFFPPPVPVVPVPFFVPFFFFFPVVFFVFPFFFVPPFFPVPFVVPPFPPPPFFPVPFFFFVVPFPFFFPFFPVVVFFPPPFV',\n",
       " 'AFVVFPPVFFFFFPFFFFVPVFVPFPVPFPVFPFPVFPP',\n",
       " 'AVVVVFVVFFFVVPFPFPPVPVFPV',\n",
       " 'AFPFPVVFVVFFFPVFFVFPVVPVVPVVVVFVVFFVPPVVVVFPFFFVPVPFPPPFPPPVPVPFPVVVVPVPVPFPVFPVV',\n",
       " 'APVVPPFFPVVPFPVFFFVF',\n",
       " 'AVPVPPVFFVVFFVVFVVFFFVPVPFPPPVVVFPVPPFPPPVFFVVFVVVPVFPFVPPVFVPVF',\n",
       " 'AVPFPPPVFFVVVFPFFPPVFPPPPPFFPPFFVPVVPVVVFFPPFVPFVFVFFVPPFPPVPVVPVPPFPP',\n",
       " 'APPPFFFVVFFFFVPPPVFVPFFF',\n",
       " 'AVFVFPVPVVFFPVVPPPPVFFVPPVVFFFVVFPVFPFVVFFPPPFPVPPPPPVPPVFPFPFPFPVPPVFFVFVPPVPPPVVFVFFVFPVVPPVPFVVPVVVFVFVFFFFVPFFPPFVVFFFPVFPVV',\n",
       " 'AVFPFFFFPFPVVPFFFFVPFVFPVVFFVFPFVPPVVFPPFFPFVFPVPFFVPFPFPFFFVFFPVVVFVVFFVPVVFVVPPVFVFPPPPFVFFPFVFFFVPPPFVVVPPP',\n",
       " 'APFPFFPVVFPPPFVFPVFFFVVVFFFPFVPPPFPPVPFVPFPVVVPPVPVPVVVVVVFVPPPVPFPP',\n",
       " 'AVVPFPFPVVFPVVFFPFPPVVPVPFVFFFFVFFPFFFFPFVVFVFFPFPVPVFFPPFPPFPVVVF',\n",
       " 'APFFVFPPPVPFVVFVVVVVPPPVPFVPVPPVPPPFVPPVVPPPFFPPFPVVPFVPFVVPVVPFVVVPPVFFFVVFPVFPVFVFPFVPFFPPFPPP',\n",
       " 'AVVFVPFFVPPFFFPVPFPVPVFPFPFVPPVFF',\n",
       " 'AFFFVFVPFVPVPVVFPVVVV',\n",
       " 'AVPFVVPVPVPPPPFVFVFVPFPVVPFFFPVPVVPVFFVFFPPPPFFPPVFPFFFVFVFFVVVVPVPVFFVFVPVPVPVPFVFPVVFVFVVFPVPVFVPVPVFVFPPPFVVFPPVVPFFFFVFPFVF',\n",
       " 'AFPVVVFFVVVVPPFVFVPFFFVFFVPFVVFPFPVVFPVPPFPFPPVVPFPFFVVPFVFPPPFVPVVPFPPVFPVPVPPFVFVFFPVFFVFFFVPPVPPVVFVFFVVFPFVPVFFFPFVVVPVFFVFVVPF',\n",
       " 'AFFVVPVVFPVPPVFVFVPVVPPVFFFVVPFPVPPVVVVPVFVPPVPVFPVVVFVVPVFFPPVPVFVPFVPPFPPFVVPFFPPPVPVPVVFPPVVFFPFFFV',\n",
       " 'APPPFVFVVFPFFFPVPFVPPVFVFVFFFFFVVPPPVPFFPFFFFPPFVFFVVVVFVVVVPFFFFVFVPPPVVFPFFVVVPVFPVFFPFVVFVFPPPPPPPFPPFFPFFFFPVFVVVPFFVFVPFPFVVFPPPFPVFFPPFVPPVPVV',\n",
       " 'APFFPVFPPPFFFVVFFFPFFVFFPPFFVVFVFPVFVVPFVPFVVVFFPVVFFFPFVFVVPVVPPFPPFPVVVPPFVPFVVP',\n",
       " 'APPPFFVVPVVVVPVVPPPFFVFVPVPVFVPVFFFPPVVVVPFPFPVFFPVFVFFVFVPFVPPPPVVFVVPPPFPPPPVVPVVVPVPVFFFVFPVFFFFPFFVVFPFF',\n",
       " 'AFVFPVPFPFFFVFFVVFVPFPFPVVPFPPVFFPVFVVVFPVVVFVPFPFPVPPPFPFPPFPPVPFVFFPPVFVPFFVVFPVFPPFFVVVFFPFPFPPFFFVFVPVFPPPPVVVPFFPPFVFFVVPFFFVFPFFFV',\n",
       " 'AFVVVPFFFPVVVVFPVPPFVFFVFFFVFFFVPPV',\n",
       " 'AVVFVFPPVVPPFPVPPPVFFFPPVVPPPFFFFPFPPVFPPFVVFVFFVVFFPFPFVPVFFPPFPPPVPVFVVVFVFVFVPFPVVFPFPPFFVPVFVPPVVFPFPPVVPFFFPFVFPVPFVPPPVFVFPPVF',\n",
       " 'APFPPVPVPFVPVVVFVFVPPVPPFPPPPVVFFPPPVFFVVVFVPPPPFFFVFFFVFPPVVVFVFPPVPVFFVVFVPPFFPFPFFPFVFFVVVVPP',\n",
       " 'APVPPFFVPFPFFPFVPVFPPVVFFVPVFFVVFVFVPFVPVVFPFPVFVPPVFFFVFVPFFPVVVFVPFPPFVFFFVVFPPVFVPFVVVVVVPPVFPPFVFPVFVVFP',\n",
       " 'AVFVVPPFFFVFFPFFVFVPFPVFVFPPFPPVVFVPPFVF',\n",
       " 'AFPFPPFFPVPPPVFFVFPPVFPFFPPFVFPVVFVVVVVPFVPFFVVVFVPVFFVPFFPFFVVPVPFFVP',\n",
       " 'AFPFPVFFPVVFPVVFVPPPFPFVFVVFPVFFFFPFVFVVVPVPPVFPVFVVFPFPVFPPFFVPFPFFVFPPFFPPPPFFVFVPVFPVPFPPFVPVFFPPPFVFVVVVPPFFPFVVVFFVPFPVVFPPVV',\n",
       " 'AVFVFPPVVFFPVPFFFFPPPFPFFFVFPVFFVVFFPVPPFPVPVPFFVFFPPVFPV',\n",
       " 'AVPPFPVPFFVVVFFVFVVFPFFVFV',\n",
       " 'APVFVFVVPVVVVPPVFVPFVVFFVFVVVVPPVVVFFFVPPPPPVPPPPVFFVPVFFFPVVPV',\n",
       " 'APFVFPPVFFVPFFVPPPPVPPFFFVVPPPPPFVPVFFPPVFPFFVPFVVVVFVVFVVVVPVVFPPVPPPFPFPFFVFFPFFVFVVFPVVVFVFFFVVVVPPPFVVVFFFPFVPVFPFPPFPPFFPV',\n",
       " 'AVFPFFPVPFFFPPFVVFFFVVFVVPPPFPFVVVPVV',\n",
       " 'AVFFPFPFFPFFFVPPFFVVPPPPVPVFVFPFVFVFPFPVVVPFVFVPPPPVFFPPVPVPPFPPFPFVVPFVPPFPPPPVPPPFPV',\n",
       " 'APVPVVPPPVPFPVFVPVPFFPFPPPFVPVFPVPVFPPPFPPVVPPPFPFFVPPFVFPFFVPPPFFPVPFFPPFVVFFPFFFPPFFFVVPPVFF',\n",
       " 'AFPPPVVPPFVVFVVPFPF',\n",
       " 'AFVFVFPFPFFVFFFFPVFVFVFPPVVFFPVFVFPFFFVFVFPFFFFVFFFPPVF',\n",
       " 'AVFVPFVFFFPVVFVPVPPVPVFVPPPVVPFVPPVVPFPFFFFFPPFPVPVFF',\n",
       " 'AFPVPPPFPFVFVFFVPFPFFFPVFVVPFPVVPPFPVPFPVPVVVVFFFPFVFFFPFVPFVVVVVVFFFP',\n",
       " 'AFVPPFFVPFPPPVVFV',\n",
       " 'APPPFVVPVPPPFVFFFPVVPVPVFVFVVVPVFPPFFVVPPVPPVFVFFVFPFPPFFVFPFFPFPPFPPVPFPFVVPFVPPPVFPVPVVPPVFPPVPVPFFPPPVPPPFVFFVPFVVPPPVV',\n",
       " 'AFVPPFVVPVPPVPVVFPVPFPVPPPPFVPFFPFFFFVFPVFFVVVVPVFFVVPPPVVPFPPVPFFFPVPFFPVVPFFFPVPVFFFFFVFVPFFPPFVFVFVPPVFVFFFFFVFFPFFVFPFFVVVFPPFPPFVVVPFFVP',\n",
       " 'AFVPVVPPPVFPVVVPPFFVVPFVVPPPVFFVVVPFPVF',\n",
       " 'AFPPVPFVVVFVFPPPPPFPPFVVFPPPVVFVPFVVFVPVFPFPFPVVPFV',\n",
       " 'AVPFFFFFVPVVPVPFVFPFVPVPFFFFVVFFVVFPFVPVPFVVFPFVFFVVPVPVVVPFVFPPFPPFPPVFVVVFPFPFVPFFVPVFFFFVFFFPVPVPPVVPVFPFP',\n",
       " 'AFVVPVPFFVFPVVVVVVVFVPVFPPVVPFFVPFFFPFFPPVFPVFFFPVPFFVVVVVPVPVFFVVPPPFF',\n",
       " 'AVPFFVPFVFVPVFVVPVVVPPFVFFVPPFFPVPVVPFFFFFVFPFFFPPPPPFVFVVVVVFPPFFPFFVFVFVFVFPPVVVFPFFFFFVFVFPFVPVPFPVVPFVPVVVFVPF',\n",
       " 'APPFPPFVPFVPFPPFFPFPPVVPVVFPPPFFVFFFPPPFFFVFVFFPVFVFFPPVFPPPPFPVFPPPVPPFFFPPFVPVVPVFFFPVFFPFPFFP',\n",
       " 'AVVPVFVFPVFFPFPVF',\n",
       " 'APPVFFFFPVVFFPFVFVFVVVVVVVFFVPVVFPFPFFVVPVVVVFVVPPPPPVPPPVVFVFPVFFVFVVVVPFPFVPVPPPVPVFPPPPVVVPFVVFPPFVFVFP',\n",
       " 'AVVVVFPPFPFFVPFPPPPVVPFVPFV',\n",
       " 'AFPVPVVFVFVVPVFFPPVVPVVVPPPFPVPPFPPVVFPVFFFFFFFFVFFPPVVFVFVFPVPVPVPVFPFFFVPFFVPVFFVVFPVFVVPFFFPVVPPFVVPPFVPVPFFPPPF',\n",
       " 'AFFVPPVVPPVVFVVFPVVVVP',\n",
       " 'AFVPVPFFVPVFVFVPFVVVPPFFPVFPPPPPPVFFVPPPPPPPFVPFVVPVVFPFFFPPVPPVVPFVPPFFFVPPPFFVVFFPFPVPVFFFPVVFFPFFPPFFFVVVPFVPFVPFVFVVFVPPVFVVFVPVVFFFVF',\n",
       " 'AFFVFVFFPPPPPFFFPFVVFPVFVVVVPVPVPFVPVFVPVPFVFPPFPPVVPFFFFFPPFFVFPPFVPVVFFFPPVPFVFPVVFPPFPFVFFFVFPPVFVFPPVPVVP',\n",
       " 'AVFVPPFPVPPVFFFPVPFFVFVFFFPPPVVPPPVVPFPVPVVPVPPPFVFFFFFVFFVFVPVPFVPFVVFVPFPVVFPFVPVVPPPFPPVVVPVFPFFVPFVPPVPPPFPV',\n",
       " 'AFVFPFVPFVFPVVFVPVPVPVPVPVVPFFFFFPPVVPFVFFPPFPPFFPFVPFFFVPPFVFFFFFPPFVPFPPVFVPVPPVPPPFPVVFFPFFFVPPFVVFPVFPF',\n",
       " 'AFFVFFVPVFPFVVPPVFFPPPVFFVVVFPFFVPVFVPFVVFFFPPFFPFPVVFFFPFFFFPPPPPVPPPPPVPFPPFFPPPPPFFFVVVF',\n",
       " 'AFPPPPPVPFV',\n",
       " 'APVVFVVVVPPFPFFFVVPVFPPVFFPPFFFFFFFVPPFFVVPVVFFPFPVFFVPPVFVPP',\n",
       " 'AFFFFPFVVVVVVPPFVVPVVVPFFFFFVFVPFPVFFVPPPVFFFFVVFFPPPFF',\n",
       " 'AVVVVPPVFVPVFPPVPPPVFPPPVPPVPVPPPVPFFFFVVPVPPVPPFFVPFPVFPPVPVPFPPPFFFFVFPVFFPVFFPPFFVVFVFVVFVFVVVFFVVPPPVVPPFFFPVPVP',\n",
       " 'APFVFFVFFVFVPVPPFVPVFFFPFPFFVFFPFFVPFFVPFVPPPFPFFVPPVPPFPFVPFVPPPFFF',\n",
       " 'AFPFFVFPVFPFVPVFVFFPFPPPFFFPVVFPVVPFPVFFVFPFVVPVVFFPPPVFPFPVFFPFVV',\n",
       " 'AFPVFFPFVPPFPPFVVFPFFPPVFFPVFPFVFVFFVVPVPVFFFVVVFVVPVPVVPPFPPVPPPVPFFPPPVVVPPPPVPFFPFFFPFVFVVP',\n",
       " 'AFPPFFPPFFPPPVVVPFPVFPPVFFFPVFVVPPPPFVFVFVFPFFVVFVPFVFFPVFFVFPVFFVVFVPFVPVFVPVPPVFFFFVFPVVVPPVPPPVFFVVPVVVPVPPFFPPPFFPVVPPPFVFFPPFPVFVFPFFPVV',\n",
       " 'AVPVPVPFPPVFPVVFFVFVFVFFVFPPVVPV',\n",
       " 'AFFVPVFFVPVPFFPPVVFFVPFFVPPVPPFPFPFFPPFPPFVPPFVFVPFVVPVFPPVVVPFPFVPVPFFFPPPFVFFVVFFPPFV',\n",
       " 'AVVPVFVPVFPPFFFFPVVVFVPFPVPPVPPVFVFVPPVFVPFVFFFPVFFVFVFVFVVVVFVFVFPPPVFVVFVFFFVPFFVFVVFFVPPPPVFP',\n",
       " 'AVPPVPVVPFFVPFFVPPVFVFPPVFFVVFPFVPVVVVFFVVPFFFVFFPVFFFPVPFVVVVPPFPFVFFFFPFPFVFFPPPFFVVPPPPPVFVFVVVVVFVVFFPPPFFPVV',\n",
       " 'AFPVPVPPFPPPVFVPVFFPVFPFPFVVFVFVPVFVVPPVVPPFVPFPPFFFFP',\n",
       " 'AVPFFPPPPPFVFVFPFFFVPFVVVVVVVFFVFPPVPPVFVFVFPVVFFFFFVFFFFPPPVFPPVPVFPPPFVPVFPFPPFVFVFFVVPVPPPFFVPFVVFPPPVF',\n",
       " 'APVFFVPVFPPVPFVVVFFFPPVPFFVVVFVFVVPFPVPPVVVVPFFPVPVFFPPFVPFVFPPVPPFVVVVVPVPFVFPFPFPVFFPVFVVPFFPPFFFPVPFFPPPFVVPV',\n",
       " 'AFFPPVVFVVVPPVVPPPPFP',\n",
       " 'AVFFPPFVVFFVVPPVPFVVPFVVVVVVFFPVFPPFPFVFPVPPFV',\n",
       " 'AVPVPFVVVPFPPPPVFFFPPVVFVVFFVPVFPVPVVPPPFPPVPPVVVPFFPFFVFPFFPPPFPPPVVPVVPVVPPFFPVPFFFPPVPVVFPPFVVPPPFVFVFFPFVFFPV',\n",
       " 'AVFPPPVPPFFFPVPPVVFFVFVF',\n",
       " 'AVPPVPPVVVPFVF',\n",
       " 'AFPVPVPFVPPFPPPVPFFVFFPPFPPVVPVVFVFVVFFFPPVPPPFFFFPVPVFFFPV',\n",
       " 'AFPPPVPPFFPVPPVVFVVPFPPPFFVFVVPFVFPFFVVPFPFFFPPFPFFPFFPFVVFFPPPFFPPPPFVFVVPVVPFPFPPFFPPVVFVFFFFVFPPVP',\n",
       " 'APVVPVFFVFFPFFFPVFVVPFVVVPVPPFFVPVPFFVPFVFFPVVFFVVVVPFVFFVFVPFVFFVPVFVFFVFVFVPVV',\n",
       " 'AFPFPPVVPVFPVPVPFPFPPFVVVFPVPVPVFFVP',\n",
       " 'AFPFPVFFPPVPFPVFPVFFVPFFPFVFVFVVVPPFVFVPPPPVFPVFFVPPPFPVPFPPFFFFVPPPPVV',\n",
       " 'APFVVFVVPVPVFPFPFPPPPFVPVFPFPFFVFPVVFFPPVVFVPFVVFFFVVPFFPFVFFFV',\n",
       " 'AVFPPFVFVFVFVPPPPFVPVFVPFVVVPPPVFPFPFVFFPFVVVPVVFFVFVPPVFPPPFPFPPPVFFPVVFVVPVVPVFPVVVVPFVPFPPPPVVFVVFVFVPVFPPFPFFVFPPPPVFFPFPVVPVFVPPPVFFVF',\n",
       " 'AVPVVVVPPPPVFPFFVVFVFPPVPPPFPFFPPPPVPVFFPPVVPPPFVVFVFVVFPFPF',\n",
       " 'AVPPPVFFPFFVVFFPPPFFPPVPFFVVPFFFVVFFPPPFVVFFPVVFVVPPPVFFFVFPPPVPVFFPPPPFFVVFFVVVPVFFVFPPPFVVPVFFF',\n",
       " 'AFPFFPVFPPVVPVPPFFVPPPFPVVFPVPFPVVFPVFFPPFVVVFVVFVFPFVPVFFPFPVFPPPVVPPFFVPVPPFPVPFPPFVPPPFVVVPVPPVPVFPVVPFVVPVFFVPPPVVPPVFPFFFFVFPFVVPFFPFVPPFPPVPFPFF',\n",
       " 'APFVVVVPVVFFVPPFPVFVPVF',\n",
       " 'AVPPVVFFFVPFVVFFFPVPFFFVVVVVFVFVPFPPVVVVPPFFVPVPPFVVVPVPVVFPVPFVPPFVFPFFFV',\n",
       " 'APPFFFFVPPFPPPFFPVFPPFFFFFVFV',\n",
       " 'APFPPFVFFFPFPFVPPFVFFFFFVPFFPVVPFFP',\n",
       " 'AVFPPVPFFVPVPFPPVFPPFPPVPVFPPPPPPVFFPPVVFPPPPFPVFFFVFPPPFVPPPPPPPPPFPVVFPVPFFVPVFPFPFFVPPVFFVVVPPPFFVPPVPVVFFVPPVPFVVVPFPVVPPFVVVFFFVFFFFVVPVVVFFFPFVF',\n",
       " 'AVVVPVPFFVFFFPVVFVPPFPPVPFFVPPPVVFPVFVPFFFVFFFPVVPVVPFPPPFFFFFFPVPVPPFFVVVVVVFVFFPVFFPPFFFFPPPPVFVFVFPFVVVPVFVPVPVFPPVVPPFVVVVVPPVVPPFVPFVVF',\n",
       " 'AFFPFPVVVVPPVVPPPFPPPFFPFVPPVVPFFPFPFVFVPFFFPPVVPPPPVVFPFPVFPVVPFPPFVPFFVFPPPPVPFFVVVFFVPVFVVPVFFPFVFPFVVFPFPVVFVPVVPPVFPFVPFVPPVPFVPP',\n",
       " 'APFPVPFPVVFVVPPFPVFFVFVFFVPPPPPVFVPPVFVVVVVFPPPVFVFFPFPFPPVVFPVPVVPFFVVFPPPPPVFFVVVVVPFFFVVVPPPPFFPVVPVFVVPFFVFPP']"
      ]
     },
     "execution_count": 7,
     "metadata": {},
     "output_type": "execute_result"
    }
   ],
   "source": [
    "random_files"
   ]
  },
  {
   "cell_type": "code",
   "execution_count": 7,
   "metadata": {},
   "outputs": [
    {
     "name": "stdout",
     "output_type": "stream",
     "text": [
      "['A' 'B' 'V' 'V' 'F' 'V' 'F']\n"
     ]
    }
   ],
   "source": [
    "#np.random.randint(10,150,100)\n",
    "a = 'ABVVFVF'\n",
    "#print(np.array([list(a) for word in a ]))\n",
    "print(np.array(list(a)))\n"
   ]
  },
  {
   "cell_type": "code",
   "execution_count": 8,
   "metadata": {},
   "outputs": [
    {
     "ename": "NameError",
     "evalue": "name 'cv' is not defined",
     "output_type": "error",
     "traceback": [
      "\u001b[0;31m---------------------------------------------------------------------------\u001b[0m",
      "\u001b[0;31mNameError\u001b[0m                                 Traceback (most recent call last)",
      "\u001b[0;32m<ipython-input-8-cd7be3cba989>\u001b[0m in \u001b[0;36m<module>\u001b[0;34m\u001b[0m\n\u001b[1;32m      1\u001b[0m \u001b[0;31m#try new L-system with another approach\u001b[0m\u001b[0;34m\u001b[0m\u001b[0;34m\u001b[0m\u001b[0;34m\u001b[0m\u001b[0m\n\u001b[0;32m----> 2\u001b[0;31m \u001b[0mcv\u001b[0m\u001b[0;34m.\u001b[0m\u001b[0mdividing\u001b[0m \u001b[0;34m=\u001b[0m \u001b[0mnp\u001b[0m\u001b[0;34m.\u001b[0m\u001b[0marray\u001b[0m\u001b[0;34m(\u001b[0m\u001b[0;34m[\u001b[0m\u001b[0;34m'A'\u001b[0m\u001b[0;34m]\u001b[0m\u001b[0;34m)\u001b[0m\u001b[0;34m\u001b[0m\u001b[0;34m\u001b[0m\u001b[0m\n\u001b[0m\u001b[1;32m      3\u001b[0m \u001b[0;34m\u001b[0m\u001b[0m\n\u001b[1;32m      4\u001b[0m \u001b[0;32mdef\u001b[0m \u001b[0mcreateLSystem\u001b[0m\u001b[0;34m(\u001b[0m\u001b[0mnumIters\u001b[0m\u001b[0;34m,\u001b[0m\u001b[0maxiom\u001b[0m\u001b[0;34m)\u001b[0m\u001b[0;34m:\u001b[0m\u001b[0;34m\u001b[0m\u001b[0;34m\u001b[0m\u001b[0m\n\u001b[1;32m      5\u001b[0m     \u001b[0;32mif\u001b[0m \u001b[0maxiom\u001b[0m \u001b[0;34m==\u001b[0m \u001b[0;34m'A'\u001b[0m\u001b[0;34m:\u001b[0m\u001b[0;34m\u001b[0m\u001b[0;34m\u001b[0m\u001b[0m\n",
      "\u001b[0;31mNameError\u001b[0m: name 'cv' is not defined"
     ]
    }
   ],
   "source": [
    "#try new L-system with another approach\n",
    "cv.dividing = np.array(['A'])\n",
    "\n",
    "def createLSystem(numIters,axiom):\n",
    "    if axiom == 'A':\n",
    "        startString = np.array([0])\n",
    "        endString = np.array([], 'int')\n",
    "    for i in range(numIters):\n",
    "        endString = processString(startString)\n",
    "        startString = endString\n",
    "    return endString\n",
    "\n",
    "def processString(oldStr):\n",
    "    newstr = np.array([], 'int')\n",
    "    for ch in oldStr:\n",
    "        newstr = newstr + applyRules(ch)\n",
    "    return newstr\n",
    "\n",
    "def applyRules(lhch):\n",
    "    \"\"\"Apply stochastic rules using random distribution\n",
    "    for values between 0 and 2 to apply rul1 or rule2 or\n",
    "    rule3 \"\"\"\n",
    "    rhstr = \"\"\n",
    "    s = np.random.randint(0,3,1)\n",
    "    if lhch == 'A' and s == 0:\n",
    "        rhstr = 'AF'   # Rule 1\n",
    "    elif lhch == 'A' and s == 1:\n",
    "        rhstr = 'AV' #Rule 2\n",
    "    elif lhch == 'A' and s == 2:\n",
    "        rhstr = 'AP'\n",
    "    elif lhch == 'A':\n",
    "        rhstr = 'B'  # Rule 2\n",
    "    else:\n",
    "        rhstr = lhch    # no rules apply so keep the character\n",
    "\n",
    "    return rhstr"
   ]
  },
  {
   "cell_type": "code",
   "execution_count": null,
   "metadata": {},
   "outputs": [],
   "source": [
    "#np.random.randint(10,150,100)\n",
    "a = 'A'\n",
    "#print(np.array([list(a) for word in a ]))\n",
    "b = list(a)\n",
    "\n",
    "print(b[-1], b)\n",
    "for z in range(1,10):\n",
    "    for i in b:\n",
    "        if b[0] == 'A':\n",
    "            b[0:1] = 'A'\n",
    "print(b)"
   ]
  },
  {
   "cell_type": "markdown",
   "metadata": {},
   "source": [
    "Alfabeto:\n",
    "C i = cambial inicial\n",
    "C d = cambial diferenciable\n",
    "V = vaso\n",
    "F = fibra\n",
    "P = parénquima\n",
    "Sistema-L estocástico\n",
    "p\n",
    "W : C i\n",
    "p1: C i →C i C d\n",
    "p2: C i < C d 0.33 → C i F\n",
    "p3: C i < C d 0.33 → C i P\n",
    "p4: C i < C d → C i Vp\n",
    "p5: C i < C d > F→ F p11: C i < C d > V→ F\n",
    "p6: C i < C d > F→ P p12: C i < C d > V→ V\n",
    "p7: C i < C d > F→ V P13: C i < C d > V→\n",
    "p8: C i < C d > P→ F\n",
    "p9: C i < C d > P→ Pp\n",
    "p10: C i < C d > P→V"
   ]
  },
  {
   "cell_type": "code",
   "execution_count": null,
   "metadata": {},
   "outputs": [],
   "source": []
  },
  {
   "cell_type": "markdown",
   "metadata": {},
   "source": [
    "# Word counting\n",
    "Using the random_files array to count frequencies and stablish the vocabulary with a defined k-mer length.\n"
   ]
  },
  {
   "cell_type": "code",
   "execution_count": 8,
   "metadata": {},
   "outputs": [],
   "source": [
    "#Get words regresa un diccionario con las palabras y los conteos.\n",
    "#Se puede aprovechar para usarlo con multiples conteos\n",
    "def get_words(file, x):\n",
    "    \"\"\"Determine the number of different words in \n",
    "    a given string. It needs two arguments: \n",
    "    1)a given string\n",
    "    2) the length of the k-mer to determine\"\"\"\n",
    "    #Create empty set to add the different words\n",
    "    words = {}\n",
    "    #go trhough the string:\n",
    "    for z in range(0,len(file)):\n",
    "        word = file[z:z+x]\n",
    "        if len(word) == x:\n",
    "            words[word] = words.get(word,0)\n",
    "            words[word] = words[word] +1\n",
    "        else:\n",
    "            pass\n",
    "    return(words)"
   ]
  },
  {
   "cell_type": "code",
   "execution_count": 9,
   "metadata": {},
   "outputs": [],
   "source": [
    "def get_all_words(array):\n",
    "    \"\"\"Determine the number of different words in \n",
    "    a given array. It uses the get_words function\"\"\"\n",
    "    #Create empty set to add the different words\n",
    "    words = {}\n",
    "    #iterate trhough the files:\n",
    "    for i in array:\n",
    "        x = get_words(i, 4) \n",
    "        for keys,values in x.items():\n",
    "            words[keys] = words.get(keys,0)\n",
    "            words[keys] = words[keys] + values \n",
    "        #aquí debería de venir una forma de agregar cada \n",
    "        #diccionario de x a words\n",
    "    return(words)\n",
    "#Se cambió la función..... en lugar..\n",
    "#Parece que las dos funciones funcionan.#Utilizarlas con los datos"
   ]
  },
  {
   "cell_type": "code",
   "execution_count": 10,
   "metadata": {},
   "outputs": [
    {
     "name": "stdout",
     "output_type": "stream",
     "text": [
      "{'AVVP': 1, 'VVPF': 3, 'VPFF': 2, 'PFFF': 1, 'FFFV': 1, 'FFVV': 2, 'FVVV': 1, 'VVVF': 1, 'VVFP': 1, 'VFPP': 1, 'FPPV': 1, 'PPVV': 2, 'PVVP': 3, 'PFFV': 1, 'FVVP': 1, 'VPFP': 1, 'PFPV': 1, 'FPVV': 2, 'VVPP': 1, 'VPPV': 1, 'PVVF': 1, 'VVFF': 1, 'VFFP': 1, 'FFPV': 1, 'VVPV': 1, 'VPVF': 1}\n",
      "{'APPV': 1, 'PPVF': 1, 'PVFP': 1, 'VFPF': 1, 'FPFV': 1, 'PFVP': 1, 'FVPP': 2, 'VPPP': 1, 'PPPP': 1, 'PPPF': 1, 'PPFF': 2, 'PFFV': 2, 'FFVP': 1, 'VPPF': 1, 'FFVV': 1, 'FVVF': 1, 'VVFV': 1, 'VFVP': 1, 'FVPV': 1, 'VPVV': 1}\n"
     ]
    }
   ],
   "source": [
    "print(get_words(random_files[1],4))\n",
    "print(get_words(random_files[2],4))"
   ]
  },
  {
   "cell_type": "code",
   "execution_count": 11,
   "metadata": {},
   "outputs": [],
   "source": [
    "x = get_all_words(random_files)"
   ]
  },
  {
   "cell_type": "markdown",
   "metadata": {},
   "source": [
    "Las funciones ya funcionan. Ahora se tiene cargar un de pedilanthus y convertirlo en una lista de strings."
   ]
  },
  {
   "cell_type": "code",
   "execution_count": 51,
   "metadata": {},
   "outputs": [],
   "source": [
    "with open('../Data/P_bracteatus/845_edited_cells.txt', 'r') as f: # 'r' stands for reading\n",
    "    bractetus_845 = f.readlines()\n",
    "bracteatus_845 = [x.strip() for x in bractetus_845] \n",
    "with open('../Data/P_calcaratus/896_edited_cells.txt', 'r') as f: # 'r' stands for reading\n",
    "    calcaratus_896 = f.readlines()\n",
    "calcaratus_896 = [x.strip() for x in calcaratus_896] \n",
    "calcaratus_896 = [x.upper() for x in calcaratus_896]"
   ]
  },
  {
   "cell_type": "code",
   "execution_count": 52,
   "metadata": {},
   "outputs": [],
   "source": [
    "bracteatus_845_words = get_all_words(bracteatus_845)\n",
    "calcaratus_896_words = get_all_words(calcaratus_896)"
   ]
  },
  {
   "cell_type": "code",
   "execution_count": 53,
   "metadata": {},
   "outputs": [
    {
     "name": "stdout",
     "output_type": "stream",
     "text": [
      "{'FFFF': 7521, 'FFFP': 668, 'FFPV': 87, 'FPVP': 46, 'PVPP': 3, 'VPPP': 2, 'PPPF': 47, 'PPFF': 114, 'PFFF': 654, 'FFPF': 516, 'FPFF': 526, 'FFPP': 124, 'FPPP': 50, 'FPFP': 54, 'PFPF': 59, 'FPPF': 71, 'RRRR': 1715, 'PVPF': 49, 'VPFF': 58, 'FPVV': 19, 'PVVF': 6, 'VVFF': 9, 'VFFF': 39, 'PFFP': 51, 'PPFP': 10, 'RRRF': 15, 'RRFF': 10, 'RFFF': 7, 'FPVF': 22, 'PVFF': 30, 'FPPV': 11, 'PPVP': 10, 'FPFV': 1, 'PFVF': 1, 'FVFF': 3, 'RRRP': 2, 'RRPP': 2, 'RPPF': 1, 'PPPP': 29, 'VPFP': 7, 'RRFP': 5, 'RFPF': 3, 'PVPV': 2, 'VPVF': 3, 'PFPV': 1, 'PVVP': 9, 'VVPF': 13, 'PPVF': 4, 'PFPP': 10, 'PVVV': 5, 'VVVP': 4, 'PPPV': 3, 'VPPF': 1, 'RFPV': 1, 'VVPP': 1, 'VVVF': 2, 'FFFV': 11, 'FFVP': 4, 'FVPV': 1, 'VFFP': 3, 'RFPP': 1, 'FFVV': 4, 'FVVV': 1, 'VVPV': 1, 'RFFP': 3, 'FVVF': 1, 'FFVF': 2, 'VFFV': 1, 'FVPF': 3, 'RPPV': 1, 'FVVP': 2, 'VPPV': 1, 'PPVV': 2, 'PVFP': 1, 'VFPV': 1}\n",
      "{'FFFP': 1023, 'FFPF': 1202, 'FPFF': 1202, 'PFFF': 1025, 'FFFF': 5134, 'PFFP': 233, 'FPFP': 246, 'PFPF': 245, 'FFPP': 40, 'FPPF': 25, 'PPFF': 37, 'RRRR': 3043, 'RRRF': 34, 'RRFF': 26, 'RFFF': 15, 'FFFR': 5, 'FFRR': 8, 'FRRR': 12, 'RFFR': 5, 'FPPP': 21, 'PPPF': 21, 'PPFP': 14, 'RFFP': 7, 'PPPP': 45, 'FFPV': 23, 'FPVF': 7, 'PVFF': 9, 'VFFF': 14, 'FPVP': 12, 'PVPF': 7, 'VPFF': 17, 'VVVV': 13, 'VVVP': 14, 'VVPF': 14, 'VVPV': 3, 'VPVV': 11, 'PVVF': 5, 'VVFP': 1, 'VFPF': 2, 'PVFP': 1, 'RRFR': 4, 'RFRR': 4, 'RRFP': 4, 'RFPP': 1, 'FPVV': 12, 'VVFF': 9, 'VFFP': 5, 'PVVV': 13, 'PVPV': 12, 'FPPV': 5, 'PPVP': 4, 'VPVP': 4, 'VPFP': 4, 'PFPP': 12, 'PPFV': 1, 'PFVF': 1, 'FVFF': 1, 'PFPV': 9, 'PVVP': 5, 'PVPP': 1, 'VPPP': 1, 'PPPV': 2, 'PPVF': 2, 'FFRF': 1, 'FRFR': 1, 'RFRF': 1, 'FRFF': 1, 'VVPP': 4, 'VPPF': 4, 'RRRP': 1, 'RRPF': 1, 'RPFF': 1, 'FFFV': 6, 'FFVF': 1, 'FFVP': 2, 'FVPV': 2, 'VVVF': 5, 'FFVV': 2, 'FVVV': 2, 'RFPF': 3, 'PFFR': 1, 'FFRO': 1, 'FROT': 1, 'ROTA': 2, 'OTAS': 2, 'TASF': 2, 'ASFF': 2, 'SFFF': 2, 'FFPR': 1, 'FPRO': 1, 'PROT': 1, 'VPVF': 2, 'PPVV': 1}\n"
     ]
    }
   ],
   "source": [
    "print(bracteatus_845_words)\n",
    "print(calcaratus_896_words)"
   ]
  },
  {
   "cell_type": "code",
   "execution_count": 47,
   "metadata": {},
   "outputs": [],
   "source": [
    "def euc_dist(x, y):\n",
    "    \"\"\"Function to calculate the euclidian distance between\n",
    "    two different dictionaries with word counts.\"\"\"\n",
    "    ss = 0 #sum of squares between words\n",
    "    for key in x:\n",
    "        if key in y:\n",
    "            ss += (x[key] - y[key])**2\n",
    "        else:\n",
    "            ss += (x[key])**2\n",
    "    for key in y:\n",
    "        if key not in x:\n",
    "            ss += (y[key])**2\n",
    "    distance = math.sqrt(ss)\n",
    "    \n",
    "    return distance\n",
    "#Como sumar las palabras que no aparecen                     "
   ]
  },
  {
   "cell_type": "code",
   "execution_count": 48,
   "metadata": {},
   "outputs": [
    {
     "data": {
      "text/plain": [
       "1992.0366462492602"
      ]
     },
     "execution_count": 48,
     "metadata": {},
     "output_type": "execute_result"
    }
   ],
   "source": [
    "euc_dist(x,bracteatus_845_words)"
   ]
  },
  {
   "cell_type": "code",
   "execution_count": 50,
   "metadata": {},
   "outputs": [
    {
     "name": "stdout",
     "output_type": "stream",
     "text": [
      "2964.115045000784\n"
     ]
    },
    {
     "data": {
      "text/plain": [
       "{'ASFF',\n",
       " 'FFFR',\n",
       " 'FFPR',\n",
       " 'FFRF',\n",
       " 'FFRO',\n",
       " 'FFRR',\n",
       " 'FPFV',\n",
       " 'FPRO',\n",
       " 'FRFF',\n",
       " 'FRFR',\n",
       " 'FROT',\n",
       " 'FRRR',\n",
       " 'FVPF',\n",
       " 'FVVF',\n",
       " 'FVVP',\n",
       " 'OTAS',\n",
       " 'PFFR',\n",
       " 'PPFV',\n",
       " 'PROT',\n",
       " 'RFFR',\n",
       " 'RFPV',\n",
       " 'RFRF',\n",
       " 'RFRR',\n",
       " 'ROTA',\n",
       " 'RPFF',\n",
       " 'RPPF',\n",
       " 'RPPV',\n",
       " 'RRFR',\n",
       " 'RRPF',\n",
       " 'RRPP',\n",
       " 'SFFF',\n",
       " 'TASF',\n",
       " 'VFFV',\n",
       " 'VFPF',\n",
       " 'VFPV',\n",
       " 'VPPV',\n",
       " 'VPVP',\n",
       " 'VPVV',\n",
       " 'VVFP',\n",
       " 'VVVV'}"
      ]
     },
     "execution_count": 50,
     "metadata": {},
     "output_type": "execute_result"
    }
   ],
   "source": [
    "print(euc_dist(calcaratus_896_words,bracteatus_845_words))\n",
    "calck = set(calcaratus_896_words.keys())\n",
    "brack = set(bracteatus_845_words.keys())\n",
    "calck.symmetric_difference(brack)"
   ]
  },
  {
   "cell_type": "code",
   "execution_count": 20,
   "metadata": {},
   "outputs": [],
   "source": [
    "x = {'FFFF': 7521, 'FFFP': 668, 'FFPV': 87, \n",
    "     'FPVP': 46, 'PVPP': 3, 'VPPP': 2, 'PPPF': 47}\n",
    "y = {'FFFF': 133, 'PFFP': 668, 'FFPV': 2, \n",
    "     'FPVP': 46, 'PVPP': 3, 'VPPP': 233, 'PVPF': 47}"
   ]
  },
  {
   "cell_type": "code",
   "execution_count": 21,
   "metadata": {},
   "outputs": [],
   "source": [
    "xkeys = set(x.keys())\n",
    "ykeys = set(y.keys())"
   ]
  },
  {
   "cell_type": "code",
   "execution_count": 23,
   "metadata": {},
   "outputs": [
    {
     "data": {
      "text/plain": [
       "{'FFFP', 'PFFP', 'PPPF', 'PVPF'}"
      ]
     },
     "execution_count": 23,
     "metadata": {},
     "output_type": "execute_result"
    }
   ],
   "source": [
    "xkeys.symmetric_difference(ykeys)"
   ]
  }
 ],
 "metadata": {
  "kernelspec": {
   "display_name": "Python 3",
   "language": "python",
   "name": "python3"
  },
  "language_info": {
   "codemirror_mode": {
    "name": "ipython",
    "version": 3
   },
   "file_extension": ".py",
   "mimetype": "text/x-python",
   "name": "python",
   "nbconvert_exporter": "python",
   "pygments_lexer": "ipython3",
   "version": "3.6.9"
  }
 },
 "nbformat": 4,
 "nbformat_minor": 2
}
